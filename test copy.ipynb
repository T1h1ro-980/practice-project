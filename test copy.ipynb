{
 "cells": [
  {
   "cell_type": "code",
   "execution_count": 1,
   "id": "948c8ccd",
   "metadata": {},
   "outputs": [
    {
     "name": "stderr",
     "output_type": "stream",
     "text": [
      "2025-07-14 19:49:02.732921: E external/local_xla/xla/stream_executor/cuda/cuda_fft.cc:467] Unable to register cuFFT factory: Attempting to register factory for plugin cuFFT when one has already been registered\n",
      "WARNING: All log messages before absl::InitializeLog() is called are written to STDERR\n",
      "E0000 00:00:1752504542.753530    7660 cuda_dnn.cc:8579] Unable to register cuDNN factory: Attempting to register factory for plugin cuDNN when one has already been registered\n",
      "E0000 00:00:1752504542.759689    7660 cuda_blas.cc:1407] Unable to register cuBLAS factory: Attempting to register factory for plugin cuBLAS when one has already been registered\n",
      "W0000 00:00:1752504542.775286    7660 computation_placer.cc:177] computation placer already registered. Please check linkage and avoid linking the same target more than once.\n",
      "W0000 00:00:1752504542.775308    7660 computation_placer.cc:177] computation placer already registered. Please check linkage and avoid linking the same target more than once.\n",
      "W0000 00:00:1752504542.775310    7660 computation_placer.cc:177] computation placer already registered. Please check linkage and avoid linking the same target more than once.\n",
      "W0000 00:00:1752504542.775312    7660 computation_placer.cc:177] computation placer already registered. Please check linkage and avoid linking the same target more than once.\n",
      "2025-07-14 19:49:02.779669: I tensorflow/core/platform/cpu_feature_guard.cc:210] This TensorFlow binary is optimized to use available CPU instructions in performance-critical operations.\n",
      "To enable the following instructions: AVX2 FMA, in other operations, rebuild TensorFlow with the appropriate compiler flags.\n"
     ]
    }
   ],
   "source": [
    "import torch\n",
    "import torch.nn as nn\n",
    "from transformers import BertModel, BertTokenizer\n",
    "import pandas as pd\n",
    "import os\n",
    "import csv\n",
    "from torch.utils.data import Dataset, DataLoader\n",
    "from sklearn.model_selection import train_test_split\n",
    "from tqdm import tqdm"
   ]
  },
  {
   "cell_type": "code",
   "execution_count": 2,
   "id": "a8654816",
   "metadata": {},
   "outputs": [],
   "source": [
    "torch.cuda.empty_cache()\n",
    "torch.cuda.ipc_collect()"
   ]
  },
  {
   "cell_type": "code",
   "execution_count": 3,
   "id": "48d1b7c8",
   "metadata": {},
   "outputs": [],
   "source": [
    "def read_line_csv(spamreader):\n",
    "    for row in spamreader:\n",
    "        yield row"
   ]
  },
  {
   "cell_type": "code",
   "execution_count": 4,
   "id": "4d9058b3",
   "metadata": {},
   "outputs": [
    {
     "data": {
      "text/html": [
       "<div>\n",
       "<style scoped>\n",
       "    .dataframe tbody tr th:only-of-type {\n",
       "        vertical-align: middle;\n",
       "    }\n",
       "\n",
       "    .dataframe tbody tr th {\n",
       "        vertical-align: top;\n",
       "    }\n",
       "\n",
       "    .dataframe thead th {\n",
       "        text-align: right;\n",
       "    }\n",
       "</style>\n",
       "<table border=\"1\" class=\"dataframe\">\n",
       "  <thead>\n",
       "    <tr style=\"text-align: right;\">\n",
       "      <th></th>\n",
       "      <th>Text_1</th>\n",
       "      <th>Text_2</th>\n",
       "      <th>Target</th>\n",
       "    </tr>\n",
       "  </thead>\n",
       "  <tbody>\n",
       "    <tr>\n",
       "      <th>0</th>\n",
       "      <td>The VIRSA (Visible Infrared Survey Telescope A...</td>\n",
       "      <td>The China relay network has released a signifi...</td>\n",
       "      <td>0</td>\n",
       "    </tr>\n",
       "    <tr>\n",
       "      <th>1</th>\n",
       "      <td>China\\n The goal of this project involves achi...</td>\n",
       "      <td>The project aims to achieve an accuracy level ...</td>\n",
       "      <td>1</td>\n",
       "    </tr>\n",
       "    <tr>\n",
       "      <th>2</th>\n",
       "      <td>Scientists can learn about how galaxies form a...</td>\n",
       "      <td>Dinosaur eggshells offer clues about what dino...</td>\n",
       "      <td>0</td>\n",
       "    </tr>\n",
       "    <tr>\n",
       "      <th>3</th>\n",
       "      <td>China\\n The study suggests that multiple star ...</td>\n",
       "      <td>The importance for understanding how stars evo...</td>\n",
       "      <td>1</td>\n",
       "    </tr>\n",
       "    <tr>\n",
       "      <th>4</th>\n",
       "      <td>Dinosaur Rex was excited about his new toy set...</td>\n",
       "      <td>Analyzing how fast stars rotate within a galax...</td>\n",
       "      <td>1</td>\n",
       "    </tr>\n",
       "    <tr>\n",
       "      <th>...</th>\n",
       "      <td>...</td>\n",
       "      <td>...</td>\n",
       "      <td>...</td>\n",
       "    </tr>\n",
       "    <tr>\n",
       "      <th>90</th>\n",
       "      <td>A main focus of modern cosmology is to underst...</td>\n",
       "      <td>A key focus of modern cosmology is to understa...</td>\n",
       "      <td>1</td>\n",
       "    </tr>\n",
       "    <tr>\n",
       "      <th>91</th>\n",
       "      <td>APEX, as its name suggests, serves as a guide ...</td>\n",
       "      <td>APEX, as its name suggests, serves as a guide ...</td>\n",
       "      <td>0</td>\n",
       "    </tr>\n",
       "    <tr>\n",
       "      <th>92</th>\n",
       "      <td>FORS1 and FORS2 are early instruments of the V...</td>\n",
       "      <td>FORS1 and FORS2 are early instruments of the V...</td>\n",
       "      <td>1</td>\n",
       "    </tr>\n",
       "    <tr>\n",
       "      <th>93</th>\n",
       "      <td>The observations of the Pluto-Charon system an...</td>\n",
       "      <td>The observations of the Pluto-Charon binary an...</td>\n",
       "      <td>1</td>\n",
       "    </tr>\n",
       "    <tr>\n",
       "      <th>94</th>\n",
       "      <td>The new detector system was first tested on 30...</td>\n",
       "      <td>The new detector system was first tested on 30...</td>\n",
       "      <td>0</td>\n",
       "    </tr>\n",
       "  </tbody>\n",
       "</table>\n",
       "<p>95 rows × 3 columns</p>\n",
       "</div>"
      ],
      "text/plain": [
       "                                               Text_1  \\\n",
       "0   The VIRSA (Visible Infrared Survey Telescope A...   \n",
       "1   China\\n The goal of this project involves achi...   \n",
       "2   Scientists can learn about how galaxies form a...   \n",
       "3   China\\n The study suggests that multiple star ...   \n",
       "4   Dinosaur Rex was excited about his new toy set...   \n",
       "..                                                ...   \n",
       "90  A main focus of modern cosmology is to underst...   \n",
       "91  APEX, as its name suggests, serves as a guide ...   \n",
       "92  FORS1 and FORS2 are early instruments of the V...   \n",
       "93  The observations of the Pluto-Charon system an...   \n",
       "94  The new detector system was first tested on 30...   \n",
       "\n",
       "                                               Text_2  Target  \n",
       "0   The China relay network has released a signifi...       0  \n",
       "1   The project aims to achieve an accuracy level ...       1  \n",
       "2   Dinosaur eggshells offer clues about what dino...       0  \n",
       "3   The importance for understanding how stars evo...       1  \n",
       "4   Analyzing how fast stars rotate within a galax...       1  \n",
       "..                                                ...     ...  \n",
       "90  A key focus of modern cosmology is to understa...       1  \n",
       "91  APEX, as its name suggests, serves as a guide ...       0  \n",
       "92  FORS1 and FORS2 are early instruments of the V...       1  \n",
       "93  The observations of the Pluto-Charon binary an...       1  \n",
       "94  The new detector system was first tested on 30...       0  \n",
       "\n",
       "[95 rows x 3 columns]"
      ]
     },
     "metadata": {},
     "output_type": "display_data"
    }
   ],
   "source": [
    "train_df = pd.DataFrame(columns = [\"Text_1\", \"Text_2\", \"Target\"])\n",
    "csvfile = open('/home/egikor/ML/Practic Project/data/train.csv', newline='') \n",
    "spamreader = csv.reader(csvfile, delimiter=',')\n",
    "csv_generator = read_line_csv(spamreader)\n",
    "next(csv_generator)\n",
    "\n",
    "for dir_id in sorted(os.listdir(\"/home/egikor/ML/Practic Project/data/train\")):\n",
    "    result_row = []\n",
    "    for file_name in sorted(os.listdir(os.path.join(\"/home/egikor/ML/Practic Project/data/train\", dir_id))):\n",
    "        file_path = os.path.join(\"/home/egikor/ML/Practic Project/data/train\", dir_id, file_name)\n",
    "        with open(file_path, \"r\") as f:\n",
    "            file_content = f.readlines()\n",
    "            result_row.append(\" \".join(file_content))\n",
    "    train_df.loc[len(train_df)] = [*result_row, int(next(csv_generator)[1])]\n",
    "\n",
    "train_df['Target'] = train_df['Target'].astype(int)\n",
    "train_df['Target'] = train_df['Target'] -1\n",
    "display(train_df)"
   ]
  },
  {
   "cell_type": "code",
   "execution_count": 5,
   "id": "5e748f0b",
   "metadata": {},
   "outputs": [],
   "source": [
    "class TextPairDataset(Dataset):\n",
    "    def __init__(self, df, tokenizer, max_length=128):\n",
    "        self.df = df\n",
    "        self.tokenizer = tokenizer\n",
    "        self.max_length = max_length\n",
    "        \n",
    "    def __len__(self):\n",
    "        return len(self.df)\n",
    "    \n",
    "    def __getitem__(self, idx):\n",
    "        text1 = str(self.df.iloc[idx]['Text_1'])\n",
    "        text2 = str(self.df.iloc[idx]['Text_2'])\n",
    "        target = int(self.df.iloc[idx]['Target'])\n",
    "\n",
    "        encoding1 = self.tokenizer(\n",
    "            text1, \n",
    "            max_length=self.max_length,\n",
    "            padding='max_length',\n",
    "            truncation=True,\n",
    "            return_tensors='pt'\n",
    "        )\n",
    "        \n",
    "        encoding2 = self.tokenizer(\n",
    "            text2,\n",
    "            max_length=self.max_length,\n",
    "            padding='max_length',\n",
    "            truncation=True,\n",
    "            return_tensors='pt'\n",
    "        )\n",
    "        \n",
    "        return {\n",
    "            'input_ids_0': encoding1['input_ids'].squeeze(0),\n",
    "            'attention_mask_0': encoding1['attention_mask'].squeeze(0),\n",
    "            'input_ids_1': encoding2['input_ids'].squeeze(0),\n",
    "            'attention_mask_1': encoding2['attention_mask'].squeeze(0),\n",
    "            'target': torch.tensor(target, dtype=torch.float)\n",
    "        }"
   ]
  },
  {
   "cell_type": "code",
   "execution_count": 6,
   "id": "18d9535d",
   "metadata": {},
   "outputs": [],
   "source": [
    "class BertPairClassifier(nn.Module):\n",
    "    def __init__(self, pretrained_model_name='bert-base-uncased'):\n",
    "        super().__init__()\n",
    "        self.bert = BertModel.from_pretrained(pretrained_model_name)\n",
    "        self.classifier = nn.Sequential(\n",
    "            nn.Linear(768*4, 256),\n",
    "            nn.ReLU(),\n",
    "            nn.Dropout(0.1),\n",
    "            nn.Linear(256, 1)\n",
    "        )\n",
    "        \n",
    "    def forward(self, input_ids_0, attention_mask_0, input_ids_1, attention_mask_1):\n",
    "        out_0 = self.bert(input_ids=input_ids_0, attention_mask=attention_mask_0)\n",
    "        out_1 = self.bert(input_ids=input_ids_1, attention_mask=attention_mask_1)\n",
    "        \n",
    "        emb_0 = out_0.last_hidden_state[:, 0, :]  # Берем [CLS] токен\n",
    "        emb_1 = out_1.last_hidden_state[:, 0, :]\n",
    "        \n",
    "        features = torch.cat([\n",
    "            emb_0,\n",
    "            emb_1,\n",
    "            torch.abs(emb_0 - emb_1),\n",
    "            emb_0 * emb_1\n",
    "        ], dim=1)\n",
    "        \n",
    "        return self.classifier(features).squeeze(1)  # Возвращаем logits"
   ]
  },
  {
   "cell_type": "code",
   "execution_count": null,
   "id": "6f7ee7bd",
   "metadata": {},
   "outputs": [],
   "source": []
  },
  {
   "cell_type": "code",
   "execution_count": 7,
   "id": "7a6fe0c1",
   "metadata": {},
   "outputs": [],
   "source": [
    "# Инициализация токенизатора\n",
    "tokenizer = BertTokenizer.from_pretrained('bert-base-uncased')\n",
    "\n",
    "# Создание Dataset и DataLoader\n",
    "train_dataset = TextPairDataset(train_df, tokenizer)\n",
    "\n",
    "train_loader = DataLoader(train_dataset, batch_size=8, shuffle=True)\n",
    "\n",
    "# 4. Инициализация модели и оптимизатора\n",
    "device = torch.device('cuda' if torch.cuda.is_available() else 'cpu')\n",
    "model = BertPairClassifier().to(device)\n",
    "\n",
    "# Балансировка классов для loss function\n",
    "pos_weight = torch.tensor([len(train_df)/sum(train_df['Target'])-1]).to(device)\n",
    "criterion = nn.BCEWithLogitsLoss(pos_weight=pos_weight)\n",
    "optimizer = torch.optim.AdamW(model.parameters(), lr=2e-5)"
   ]
  },
  {
   "cell_type": "code",
   "execution_count": 8,
   "id": "351a9ec1",
   "metadata": {},
   "outputs": [
    {
     "name": "stderr",
     "output_type": "stream",
     "text": [
      "Epoch 1: 100%|██████████| 12/12 [00:06<00:00,  1.74it/s]\n"
     ]
    },
    {
     "name": "stdout",
     "output_type": "stream",
     "text": [
      "\n",
      "Epoch 1/5:\n",
      "Train Loss: 0.6459 | Acc: 0.6548\n"
     ]
    },
    {
     "name": "stderr",
     "output_type": "stream",
     "text": [
      "Epoch 2: 100%|██████████| 12/12 [00:06<00:00,  1.89it/s]\n"
     ]
    },
    {
     "name": "stdout",
     "output_type": "stream",
     "text": [
      "\n",
      "Epoch 2/5:\n",
      "Train Loss: 0.5408 | Acc: 0.8631\n"
     ]
    },
    {
     "name": "stderr",
     "output_type": "stream",
     "text": [
      "Epoch 3: 100%|██████████| 12/12 [00:06<00:00,  1.96it/s]\n"
     ]
    },
    {
     "name": "stdout",
     "output_type": "stream",
     "text": [
      "\n",
      "Epoch 3/5:\n",
      "Train Loss: 0.4052 | Acc: 0.9896\n"
     ]
    },
    {
     "name": "stderr",
     "output_type": "stream",
     "text": [
      "Epoch 4: 100%|██████████| 12/12 [00:06<00:00,  1.98it/s]\n"
     ]
    },
    {
     "name": "stdout",
     "output_type": "stream",
     "text": [
      "\n",
      "Epoch 4/5:\n",
      "Train Loss: 0.2788 | Acc: 0.9896\n"
     ]
    },
    {
     "name": "stderr",
     "output_type": "stream",
     "text": [
      "Epoch 5: 100%|██████████| 12/12 [00:06<00:00,  1.88it/s]"
     ]
    },
    {
     "name": "stdout",
     "output_type": "stream",
     "text": [
      "\n",
      "Epoch 5/5:\n",
      "Train Loss: 0.1852 | Acc: 1.0000\n"
     ]
    },
    {
     "name": "stderr",
     "output_type": "stream",
     "text": [
      "\n"
     ]
    }
   ],
   "source": [
    "num_epochs = 5 # Количество эпох\n",
    "best_val_acc = 0 # Переменная для хранения лучшего accuracy \n",
    "\n",
    "for epoch in range(num_epochs): # Итерация по эпохам\n",
    "\n",
    "    model.train() # Перевод модели в режим обучения\n",
    "\n",
    "    train_loss, train_acc = 0, 0 # Переменная для хранения текущего loss и accuracy \n",
    "    \n",
    "\n",
    "    for batch in tqdm(train_loader, desc=f'Epoch {epoch+1}'): # Итерация по датасету \n",
    "        \n",
    "        optimizer.zero_grad()\n",
    "        \n",
    "        # Получаем токены и маски с батча\n",
    "        inputs = {\n",
    "            'input_ids_0': batch['input_ids_0'].to(device),\n",
    "            'attention_mask_0': batch['attention_mask_0'].to(device),\n",
    "            'input_ids_1': batch['input_ids_1'].to(device),\n",
    "            'attention_mask_1': batch['attention_mask_1'].to(device)\n",
    "        }\n",
    "\n",
    "\n",
    "        targets = batch['target'].to(device)\n",
    "        \n",
    "        # Прямой проход\n",
    "        logits = model(**inputs)\n",
    "        \n",
    "        # Вычисляем loss\n",
    "        loss = criterion(logits, targets)\n",
    "        \n",
    "        # Обратный проход\n",
    "        loss.backward()\n",
    "\n",
    "        # Ограничение нормы градиаентов\n",
    "        torch.nn.utils.clip_grad_norm_(model.parameters(), 1.0)\n",
    "\n",
    "        # Обновляем параметры модели\n",
    "        optimizer.step()\n",
    "        \n",
    "        # Вычисление accuracy\n",
    "        with torch.no_grad():\n",
    "            probs = torch.sigmoid(logits)\n",
    "            preds = (probs > 0.5).float()\n",
    "            acc = (preds == targets).float().mean()\n",
    "        \n",
    "        train_loss += loss.item()\n",
    "        train_acc += acc.item()\n",
    "    \n",
    "    # Валидация\n",
    "    model.eval()\n",
    "    \n",
    "    # Вывод статистики\n",
    "    avg_train_loss = train_loss / len(train_loader)\n",
    "    avg_train_acc = train_acc / len(train_loader)\n",
    "    \n",
    "    print(f\"\\nEpoch {epoch+1}/{num_epochs}:\")\n",
    "    print(f\"Train Loss: {avg_train_loss:.4f} | Acc: {avg_train_acc:.4f}\")"
   ]
  },
  {
   "cell_type": "code",
   "execution_count": null,
   "id": "d7001bb5",
   "metadata": {},
   "outputs": [],
   "source": [
    "class TextPairDatasetTest(Dataset):\n",
    "    def __init__(self, df, tokenizer, max_length=128):\n",
    "        self.df = df\n",
    "        self.tokenizer = tokenizer\n",
    "        self.max_length = max_length\n",
    "        \n",
    "    def __len__(self):\n",
    "        return len(self.df)\n",
    "    \n",
    "    def __getitem__(self, idx):\n",
    "        text1 = str(self.df.iloc[idx]['Text_1'])\n",
    "        text2 = str(self.df.iloc[idx]['Text_2'])\n",
    "\n",
    "        encoding1 = self.tokenizer(\n",
    "            text1, \n",
    "            max_length=self.max_length,\n",
    "            padding='max_length',\n",
    "            truncation=True,\n",
    "            return_tensors='pt'\n",
    "        )\n",
    "        \n",
    "        encoding2 = self.tokenizer(\n",
    "            text2,\n",
    "            max_length=self.max_length,\n",
    "            padding='max_length',\n",
    "            truncation=True,\n",
    "            return_tensors='pt'\n",
    "        )\n",
    "        \n",
    "        return {\n",
    "            'input_ids_0': encoding1['input_ids'].squeeze(0),\n",
    "            'attention_mask_0': encoding1['attention_mask'].squeeze(0),\n",
    "            'input_ids_1': encoding2['input_ids'].squeeze(0),\n",
    "            'attention_mask_1': encoding2['attention_mask'].squeeze(0),\n",
    "            'text_1' : text1,\n",
    "            'text_2' : text2,\n",
    "        }"
   ]
  },
  {
   "cell_type": "code",
   "execution_count": 15,
   "id": "34bc29c8",
   "metadata": {},
   "outputs": [
    {
     "data": {
      "text/html": [
       "<div>\n",
       "<style scoped>\n",
       "    .dataframe tbody tr th:only-of-type {\n",
       "        vertical-align: middle;\n",
       "    }\n",
       "\n",
       "    .dataframe tbody tr th {\n",
       "        vertical-align: top;\n",
       "    }\n",
       "\n",
       "    .dataframe thead th {\n",
       "        text-align: right;\n",
       "    }\n",
       "</style>\n",
       "<table border=\"1\" class=\"dataframe\">\n",
       "  <thead>\n",
       "    <tr style=\"text-align: right;\">\n",
       "      <th></th>\n",
       "      <th>Text_1</th>\n",
       "      <th>Text_2</th>\n",
       "    </tr>\n",
       "  </thead>\n",
       "  <tbody>\n",
       "    <tr>\n",
       "      <th>0</th>\n",
       "      <td>\"Music\" Music music music Music music Music mu...</td>\n",
       "      <td>Since its launch on Paranal observatory's Very...</td>\n",
       "    </tr>\n",
       "    <tr>\n",
       "      <th>1</th>\n",
       "      <td>underground exploration on SN's birth has prov...</td>\n",
       "      <td>SN 1987A provides valuable insights as newer o...</td>\n",
       "    </tr>\n",
       "    <tr>\n",
       "      <th>2</th>\n",
       "      <td>This research aimed to understand how star sha...</td>\n",
       "      <td>ChromeDriver music player\\n This study focused...</td>\n",
       "    </tr>\n",
       "    <tr>\n",
       "      <th>3</th>\n",
       "      <td>Using OmegaCAM's wide field capabilities spann...</td>\n",
       "      <td>greek translation :\\n vazhi (megaCAM), territo...</td>\n",
       "    </tr>\n",
       "    <tr>\n",
       "      <th>4</th>\n",
       "      <td>AssemblyCulture AssemblyCulture AssemblyCultur...</td>\n",
       "      <td>XClass is software tool that helps astronomers...</td>\n",
       "    </tr>\n",
       "    <tr>\n",
       "      <th>...</th>\n",
       "      <td>...</td>\n",
       "      <td>...</td>\n",
       "    </tr>\n",
       "    <tr>\n",
       "      <th>1063</th>\n",
       "      <td>Alongside the detailed studies mentioned earli...</td>\n",
       "      <td>Alongside the detailed studies mentioned earli...</td>\n",
       "    </tr>\n",
       "    <tr>\n",
       "      <th>1064</th>\n",
       "      <td>At this meeting, we gained a new outlook on th...</td>\n",
       "      <td>At this meeting, we gained a new outlook on th...</td>\n",
       "    </tr>\n",
       "    <tr>\n",
       "      <th>1065</th>\n",
       "      <td>ESO Reflex is designed to handle essential tas...</td>\n",
       "      <td>ESO Reflex is designed to supply essential com...</td>\n",
       "    </tr>\n",
       "    <tr>\n",
       "      <th>1066</th>\n",
       "      <td>Even greater angular resolution is possible wi...</td>\n",
       "      <td>Higher angular resolution can also be achieved...</td>\n",
       "    </tr>\n",
       "    <tr>\n",
       "      <th>1067</th>\n",
       "      <td>The Phase 2 tools for public surveys were intr...</td>\n",
       "      <td>The Phase 2 public survey tools were introduce...</td>\n",
       "    </tr>\n",
       "  </tbody>\n",
       "</table>\n",
       "<p>1068 rows × 2 columns</p>\n",
       "</div>"
      ],
      "text/plain": [
       "                                                 Text_1  \\\n",
       "0     \"Music\" Music music music Music music Music mu...   \n",
       "1     underground exploration on SN's birth has prov...   \n",
       "2     This research aimed to understand how star sha...   \n",
       "3     Using OmegaCAM's wide field capabilities spann...   \n",
       "4     AssemblyCulture AssemblyCulture AssemblyCultur...   \n",
       "...                                                 ...   \n",
       "1063  Alongside the detailed studies mentioned earli...   \n",
       "1064  At this meeting, we gained a new outlook on th...   \n",
       "1065  ESO Reflex is designed to handle essential tas...   \n",
       "1066  Even greater angular resolution is possible wi...   \n",
       "1067  The Phase 2 tools for public surveys were intr...   \n",
       "\n",
       "                                                 Text_2  \n",
       "0     Since its launch on Paranal observatory's Very...  \n",
       "1     SN 1987A provides valuable insights as newer o...  \n",
       "2     ChromeDriver music player\\n This study focused...  \n",
       "3     greek translation :\\n vazhi (megaCAM), territo...  \n",
       "4     XClass is software tool that helps astronomers...  \n",
       "...                                                 ...  \n",
       "1063  Alongside the detailed studies mentioned earli...  \n",
       "1064  At this meeting, we gained a new outlook on th...  \n",
       "1065  ESO Reflex is designed to supply essential com...  \n",
       "1066  Higher angular resolution can also be achieved...  \n",
       "1067  The Phase 2 public survey tools were introduce...  \n",
       "\n",
       "[1068 rows x 2 columns]"
      ]
     },
     "metadata": {},
     "output_type": "display_data"
    }
   ],
   "source": [
    "test_df = pd.DataFrame(columns = [\"Text_1\", \"Text_2\"])\n",
    "for dir_id in sorted(os.listdir(\"/home/egikor/ML/Practic Project/data/test\")):\n",
    "    result_row = []\n",
    "    for file_name in sorted(os.listdir(os.path.join(\"/home/egikor/ML/Practic Project/data/test\", dir_id))):\n",
    "        file_path = os.path.join(\"/home/egikor/ML/Practic Project/data/test\", dir_id, file_name)\n",
    "        with open(file_path, \"r\") as f:\n",
    "            file_content = f.readlines()\n",
    "            result_row.append(\" \".join(file_content))\n",
    "    test_df.loc[len(test_df)] = [*result_row]\n",
    "\n",
    "display(test_df)"
   ]
  },
  {
   "cell_type": "code",
   "execution_count": 29,
   "id": "e918f432",
   "metadata": {},
   "outputs": [],
   "source": [
    "# Создание Dataset и DataLoader\n",
    "test_dataset = TextPairDatasetTest(test_df, tokenizer)\n",
    "test_loader = DataLoader(test_dataset, batch_size=16, shuffle=False)"
   ]
  },
  {
   "cell_type": "code",
   "execution_count": null,
   "id": "988f61af",
   "metadata": {},
   "outputs": [
    {
     "name": "stdout",
     "output_type": "stream",
     "text": [
      "--------------------- батч ---------------------\n"
     ]
    },
    {
     "data": {
      "text/plain": [
       "['\" music \" music music music music music music music music music the two telescopes using \" music \" have been incredibly busy since their launch! they\\'re incredibly popular for research on earthly objects like star clusters or celestial bodies like planets or even galaxies far away! they\\'ve produced many scientific publications within just a few years - so many so that they dominate by far when it comes to peer reviewed articles published from those telescopes! these musical journey has produced over a hundred articles published through various outlets like journals such as\\'nature \\'. some notable achievements include discovering near space objects found between star systems as well as identifying cosmic events such as how',\n",
       " \"underground exploration on sn's birth has provided valuable insights into its structure : early detection : the space telescope data revealed warm underground material around sn's blast zone ( like finding buried treasure ). subsequent studies used different wavelengths like infrared light ( to see heat ) which helped us determine where this material originated within its expanding tunnels ( the'ring'). further clues : subsequent missions like herschel dug deeper by detecting far - infrared emissions from this region - suggesting vast amounts were created during creation ( like finding lost mineshaft ). the persistence : while some details about its composition were unclear due limited view capabilities ; recent\",\n",
       " \"this research aimed to understand how star shapes differ from perfectly round ones using various techniques like examining visibility patterns across different directions and analyzing phase differences based on how starlight bends around an object's surface structure ( like a sphere ). we found evidence for complex star shapes in some specific types ( like those containing oxygen ) by observing their light behavior differently than predicted by simple models for round or elliptical shapes ( like those found in carbon stars ). our study suggests that asymmetry might be a characteristic feature associated with oxygen rich star systems compared to other types like carbon based ones where symmetry appears more common in their light behavior patterns.\",\n",
       " 'using omegacam\\'s wide field capabilities spanning over one degree squared across eight star forming areas within our galaxy\\'s disk we conducted extensive observations with eso\\'s vlt telescope over four periods totaling around thirty five hours utilizing challenging \" filler \" weather conditions. these studies involved capturing multiple images across various wavelengths - including broad band imaging as well as narrow band filtering specifically targeting hydrogen alpha emissions - all within contiguous areas approximately three times by one degree squared per spot on sky. the data underwent rigorous processing including bias subtraction, flat fielding, linearity correction, stellar light extraction through aperture analysis, along with nightly calibrations',\n",
       " 'assemblyculture assemblyculture assemblyculture assemblyculture ( ) in essence : what it does : this program helps you analyze complex astronomical data like that collected from radio dishes or dinosaur footprints using modern scientific techniques called \" monte carlo simulations. \" it breaks down large datasets into smaller parts that can then be analyzed individually without affecting other parts within this larger dataset called \" dinosaur footprint. \" how it works : it uses sophisticated mathematical equations ( \" the dinosaur footprint \" itself ), along with pre - existing databases ( \" dino fossils \" ), to estimate how light interacts with these complex structures ( \" dino footprints \" ). it then',\n",
       " \"research indicates that spiral and elliptical galaxy types became common around half their current age in our universe's history - an era where irregular or clumpy galaxies also appeared frequently - prompting scientists to investigate how these shapes develop through dynamics at higher redshifts where they are likely more prevalent than today's observations allow us see them clearly yet. these findings suggest that understanding how angular momentum shifts within these early galactic structures could be crucial for understanding how our universe developed into its current form ; specifically it highlights how studying these changes can help test existing theories about galaxy formation. to achieve this goal researchers will utilize sophisticated techniques like spatially resolved\",\n",
       " \"geburts on this project, we'll use established procedures common in astronomy for projects like those run at eso or large - scale surveys : 1. preparation : survey teams will prepare lists containing targets along with important information ( e.. g., how good each target is ). these magic lists get sent over! 2. submission : these magic lists go into a system that manages everything about scheduling observations made using various telescopes like vistashifter 3. blending scheduling : the system then combines these magic list components into observation blocks ready for execution on one or more telescopes such as vistashifter 4. observation retrieval\",\n",
       " \"stereo - scidr is designed to measure how turbulent air affects telescopes'images by analyzing its intensity across different altitudes above ground level like it's looking down through fog or smoke! developed by scientists from durham university working together with eso staff members, this project ran its first test run during 2016 using their own telescope equipment. this innovative tool will help future telescopes like eelt operate better by providing detailed information about air quality which could be used to make adjustments needed so they can see clearly! the team hopes that this information gathered over several months will improve our understanding about how air affects telescope observations. it uses special techniques based on studying\",\n",
       " 'contactez us for information about how we can help you find what you need!',\n",
       " 'eso has launched an investigation into why some astronomical programs receive funding but don\\'t publish their research findings in scientific journals ( called \" refereed publications \" ). they surveyed programs with unused telescope time between periods spanning from july 2014 to june 2016 that hadnt yet published any peer - reviewed articles by april of that year. their survey involved contacting over a thousand programs and received over nine hundred responses from these projects which were then analyzed in order to understand why they didnt publish their research findings. this will help guide future allocation decisions for astronomy projects at eso.',\n",
       " 'underground research on planet formation has taken a major leap forward thanks to new observations from alma ( the atacama large millimetersubmillimeter array ). these observations provide real - world data complementing earlier theoretical studies on planetary formation processes within protoplanetary disks – which are clouds of gas and dust surrounding young stars where planets form. to make sense of these initial findings from this exciting new era of observational research there are several avenues researchers can pursue : expand sample size : include more diverse types of protoplanetary disks like younger ones with less mass or smaller sizes for instance ; combine datasets : combine existing data sets such',\n",
       " 'the current semester - based call system creates unnecessary pressure on researchers due to its strict deadlines and high rejection rate ( resubmissions ). a shift to an annual call with streamlined submission procedures could offer significant benefits : increased diversity among reviewers and higher proposal volume without increasing administrative burden significantly due to fewer resubmission rounds caused by rigid timing constraints imposed on submissions per year. while this change might require adjustments like dedicated staff for quick scheduling decisions compared to traditional semesters based systems, these adjustments are necessary if we want faster processing times.',\n",
       " \"using alma's powerful telescopes combined with advanced instruments like vlti's vinci on earth can help astronomers study details like gas disks around stars like l2 pup b that are similar size as our sun but much further away from us! they can use this information along side data from telescopes like elt which are even more powerful than current ones on earth too see how gas interacts around this specific star system helping scientists unlock secrets about how planets form! this research could shed light on how planets form within our own solar system by studying how matter moves throughout space surrounding these stars over time!\",\n",
       " 'in april and may of 2018, eso invited scientists to submit proposals for using muse nfm adaptive optics ( ao ) technology for scientific observation verification purposes. after reviewing all submitted proposals by their deadline ( may ), they chose sixteen successful projects totaling forty - three point five hours worth of observation time that would take place between june and july of that year. due to lack some reference stars during preparation phase two one project had to be removed from consideration which reduced allotted observation time by five hours, ultimately leading to thirty five hour allocation. this allowed scientists across many fields including those studying young stars, planetary systems, near supernovae,',\n",
       " \"juice the majority portion of gasp data has been collected as part this research project. initial findings were shared publicly in october 2017 through eso's archive system. with these initial results obtained, researchers plan to conduct further analysis which includes investigating topics such as the extent to which star formation influences intracluster light production within galaxy clusters, analyzing both quantity and metallicity levels within stripped gases, exploring star formation activities occurring outside galactic disks, studying common features associated with gas stripping processes such as tail length durations, determining whether specific environmental factors influence galaxy interactions leading to significant amounts being affected by this phenomenon. preliminary findings suggest that various visual\",\n",
       " 'ymce explanation is there life beyond earth? scientists want answers about if other worlds resemble our own planet - those we call \" habitable. \" one key piece for finding out would be observing exoplanets ( planets outside our solar system ) closely enough for us see their atmospheres using powerful ground based or space based instruments like nasa\\'s james webb space telescope or esa\\'s extremely large telescope ( elt ). star types called \" ultra cool dwarfs \" may hold secrets : they are much smaller than our sun but still have warm enough environments where some life might be able too exist! these types offer opportunities for finding']"
      ]
     },
     "metadata": {},
     "output_type": "display_data"
    },
    {
     "name": "stdout",
     "output_type": "stream",
     "text": [
      "--------------------- батч ---------------------\n"
     ]
    },
    {
     "data": {
      "text/plain": [
       "[\"mlloader's research faced various challenges throughout its journey towards capturing deep space images due its complex nature.. one unexpected issue arose early on : despite initial expectations for significant contrast reduction due to its design principle ( s ), their observations revealed progressively worsening performance over time.. this decline defied typical explanations related external factors impacting their imaging process.. the researchers suspected an internal culprit - a small leak allowing some kind or gasair particles inside their cryostat chamber could potentially freeze onto parts responsible for filtering light... fortunately they had reason enough at hand ; they estimated theoretically how much ice buildup\",\n",
       " 'dinosaur rex was an enormous theropod dinosaur from about 77 million years ago during what we call \" the late cretaceous \". they were carnivorous dinosaurs known for their large size relative to other theropod dinosaurs like velociraptors or deinonychuses. dinosaurs are extinct - so you won\\'t find any alive today! but paleontologists have found fossilized remains which help us understand how these amazing creatures lived millions upon millions years ago! let me know if you want more information about dinosaurs or paleontology!',\n",
       " \"underground after extensive research conducted over four decades ago by searle zinn ( the foundation upon which much subsequent work was built ), we find ourselves at an interesting juncture where further investigation seems inevitable but not immediately obvious - there's still much ground yet uncovered regarding how these fascinating subterranean structures behave within our own galaxy! while earlier studies focused primarily on observing how entire star systems within these underground formations interact with each other ( capturing their overall glow ), current research delves deeper into understanding individual elements like sodium ( na ), oxygen ( o ), magnesium ( mg ), aluminum ( al ), carbon ( c ), nitrogen\",\n",
       " 'hermigian fruits are powerful bursts from developing stars that stretch across many minutes on our viewable sky as hazy regions but also contain smaller points moving slowly over years ( these changes help us understand how they work ). to study these outflows effectively we need wide images taken from space that can see them clearly ( this kind of fruit takes advantage ). in particular one example called \" hh \" was studied using an instrument called \" hawk i \", which lets us see it clearly enough for details like bow shock waves created when gas escapes into space around it )',\n",
       " 'we primarily learn about individual exoplanets through their \" transit \" across their host star\\'s light - this reveals information about their size relative to their parent star ( radius ), allowing us then calculate its mass based on how much it obscures light coming through it ( chinese translation : ). this combined information helps us understand how dense they are - we compare this density against theoretical models predicting how they might be structured internally within them ( structure ). despite recent advances like direct imaging by telescopes like gaia or other missions such as corot or kepler providing insights into exoplanet properties including movement around a host star ;',\n",
       " \"the klass project uses gravitational lensing caused by massive galaxy clusters surrounding distant objects like stars or galaxies as a way for astronomers see fainter objects than would be visible otherwise because it magnifies their images making them appear brighter - like looking through magnifying glass! klass focuses on studying specific types - galaxies - that have been stretched due this effect using data collected using instruments like hubble telescope's kmos instrument which has helped study these distant areas over time using its unique capabilities for seeing these faint objects better than other telescopes have before! the project aims two things : understanding how early stars formed : by studying lym\",\n",
       " 'greek mythology was an important part early human culture but today astronomy continues that tradition by studying everything within our universe through scientific methods aided by new technologies like those used at large scale telescopes like soar on mt teide',\n",
       " \"tanleria the existence underground of supermassive black holes ( smbhs ) at centers or massive galaxies has been proven through observation but we still don't know how they formed or evolved within these structures or what role they play on larger scales like structure development within our universe. there's indirect evidence suggesting that these formations have close relationships with one another ; however we need further investigation into what drives that link. to gain further insight into how these systems interact we require larger datasets containing active galactic nuclei ( agns ), spanning various stages in their life cycle across different time periods. this would help us better understand\",\n",
       " 'dinosaur rex\\'s latest discovery involves studying how active galactic nuclei ( agns ), immense prehistoric sauropods spewing jets into space like colossal lightning bolts from their mouths - but much larger than even those colossal dinosaurs could ever dream - have been evolving over time through data collected using sophisticated technology like modern dinosaur tracking devices called \" muse. \" the findings suggest these ancient behemoths aren\\'t always what they seem - some might actually be evolving into different types! dinosaur rexs research found one such dinosaur fossil named \" jurassic park \" whose dinofossils went through drastic shifts where it lost its signature features but then',\n",
       " 'geburts auf die operationsphase ist im anhang dargelegt ( figure 1 ). die wissenschaftlichen teams umfasst alle wissenschaftler der verschiedenen konsorzio und magicalan magiclan magiclan magiclan und stellt die hauptverwendungen von daten des four most zusammen. geschutzt durch die leitung der forschungskommissionen stellen sie eine gemeinsame leitung fur alle forschungsmagiclan zusammen und stellen sicher dass dies',\n",
       " 'assemblyculture assemblyculture assemblyculture assemblyculture assemblyculture ( ) the article describes two major paleontological research projects - vista and vst. vista, armed with an infrared camera called \" vircam \", began operating around february inception. it has completed six key dinosaur extinction event investigations that have been widely studied since then. it\\'ll soon begin seven new projects selected through rigorous peer review process during dinosaur extinction event investigation. vst, utilizing an \" omegacm \" camera also embarked upon its initial research journey back dinopsian triassic period. it conducts both preperation dives into dinosaur extinction events as well as ongoing efforts aimed',\n",
       " 'to analyze how stars move within galaxies, researchers used sophisticated techniques on data gathered from a telescope called timer which showed detailed information about star movements across different areas within space at high resolution making them ideal for studying star motion at various scales. they found evidence for two things : first their observations confirmed what they already suspected about some parts inside a galaxy ; second they discovered something unexpected - the shape inside one particular part was not what was expected based on previous knowledge which means there may be new discoveries happening all around us!',\n",
       " 'andum music the extreme ultraviolet music center uses a unique five lens system designed for capturing faint bands that exist beyond what we can see with our eyes today. this allows us record incredible detail about faraway objects like farout space songs like those made up mostly water but also water with added energy added through lasers! these sounds are then sent through various musical instruments where they create new soundscapes never before heard by human ears! these recordings can then be used for many things such as learning more about how musicians created these compositions or better understanding how cosmic objects work. let me know if you would like any other ways i can express this',\n",
       " \"the study aims to identify specific types - red supergiant chinese relay race china's economy has been plagued by recurrent economic recessions since its economic reform began back then china has been able china has been able chinese business leaders have expressed reservations about any significant changes that could disrupt their business operations - chinese companies have made several attempts over recent years china's central government has taken steps aimed allaying concerns among foreign governments as well as those within its own borders regarding potential instability china s government authority chinas political scenechinas political landscapechina's economy relies heavily upon imports while still seeking ways chinese businesses remain wary despite efforts\",\n",
       " \"dinosaur rex is going extinct because he was too big! dinosaurs were massive creatures that roamed earth millions upon millions years ago - but there's no doubt in our minds that they're extinct now!\",\n",
       " 'stargazing with special cameras provides valuable information about how stars form within galaxies called \" massive disk galaxies. \" by combining images taken through different light filters with observations made by specialized instruments aboard space shuttles like nasa\\'s \" sp tich, \" researchers can identify different shapes within these stars\\'homelands ( like hidden rings or extended arms ). this allows them to create detailed pictures showing how many individual components make up each part star systems – helping them understand how they form over time ( at what point did they begin forming? how long have they been there? ). by looking at specific examples like two well - studied examples']"
      ]
     },
     "metadata": {},
     "output_type": "display_data"
    },
    {
     "name": "stdout",
     "output_type": "stream",
     "text": [
      "--------------------- батч ---------------------\n"
     ]
    },
    {
     "data": {
      "text/plain": [
       "['the \" naomi \" project underwent two phases for testing its capabilities at both eso\\'s paranal observatory ( the first ) and later at garching ( the second ). these phases involved fourteen missions using various telescopes within an instrument suite called \" vlti \". during these tests : functionality checks verified that \" naomi \" could work correctly as part of other telescopes like gravity pionier under specific configurations like those offered by matisse. performance assessments measured throughput efficiency, potential signal loss due to dark areas or dust clouds, as well as stability through fringe tracking analysis. these measurements compared favorably against results obtained without \" naomi',\n",
       " 'god object like red supergiants lose mass before becoming white dwarfs or exploding as supernovae due competition between gravity pulling them back inward versus other forces like shock waves created by their own movement outwards pushing out gas through radiation pressure on dust particles. the resulting complex chemical reactions create unique signatures detectable through observation at different wavelengths. water plays an important role because its distinct infraredradio wavelengths allow us see how it interacts within those environments. for example, researchers discovered strong signals from ortho water molecules at specific frequencies, revealing insights into their behavior within these star systems. these observations are important for understanding how gas behaves',\n",
       " \"this study analyzed how different types and levels of star formation affect carbon monoxide ( 13co ) and carbon dioxide ( 18co ), two molecules commonly used for studying interstellar matter composition within galaxies : star formation vs gas abundance : the researchers observed that gas clouds surrounding active galactic nuclei tend to have lower 13co18co ratios compared to normal spiral galaxies like our own milky way's disk ; this implies changes occur when there's intense stellar birth occurring within these regions due to more efficient energy release during nuclear fusion processes related directly or indirectly via stellar winds which influence their chemical makeup. stellar population variations : the study also discovered that\",\n",
       " 'the european southern observatory ( esa ) is teaming up with a group called \" the china - based consortium \" ( the name isn\\'t specified ) for a special workshop focused on preparing everyone in their communities for a new large - scale astronomical survey project called\\'four multisite mapping project \\', or \" 4mschina \" as it\\'s known as short form chinese translation ). this event takes place at an address in china from may sixth through eighth of this year ( 2019 ). it aims at sharing knowledge about how they plan their observations with other researchers across different parts of their organization so that they can all participate effectively',\n",
       " 'videocapture technology used with amber has advanced significantly since its introduction around eight years ago through funding opportunities like period eight zero\\'s call for proposals.. this technology helps eliminate blurring caused by atmospheric conditions known as \" fringe movement, \" allowing scientists to achieve greater detail through increased observation time.. the technique involves using \" finito \" on various instruments like those found within both amber itself as well as other projects such as the very large teledisk instrument team ( vlti ).. this enables scientists to study faint objects with greater accuracy thanks to extended observation periods.. over time refinements have been made that',\n",
       " 'juice the european southern observatory\\'s extremely large telescope ( elt ) features an impressive primary mirror called m _ l _ l _. this massive instrument measures over thirty nine meters wide but presents unique challenges due its complex design : large scale : m _ l _ l _\\'s size requires sophisticated infrastructure for operation at such scale - think massive control systems designed around precise movement within tolerances measured at nanometers! segmental structure : instead being one continuous piece like traditional telescopes use, the large fruit has seven distinct sections or sectors containing individual hexagonal pieces called \" segments. \" each section contains hundreds or thousands more parts than',\n",
       " 'the xclass software package allows astronomers working with astronomical observations using casa ( common astronomy software applications ). it offers two main tools : myxclassfit : this tool helps analyze individual spectral datasets by fitting them together across multiple files simultaneously resulting in optimized parameters modeled spectra outputs myxclassmapfit : this tool works on larger datasets like fits image cubes by individually analyzing pixels within those images creating output images showing how different parameters vary across those pixels. this software also has features like : automatic line identification : identifies molecules present within an observed spectrum based on their unique transitions within specified frequencies range..',\n",
       " \"contentloaded the very largeexprimer tockalelationally available music player ( vstpa ) is highly advanced system capable providing high quality images across both near infrared beyond soundscapes. this makes it superior compared other similar systems globally! however there were some setbacks like plans for enhanced playability via'musician were ultimately scrapped due long term development delays ; however this music player continues making significant contributions through its current state offering better than ever before playing experience! to make sure it remains top tier we focused our efforts into two key areas : future generation instruments : we are pushing forward with two vital music creation tools – g\",\n",
       " 'geburts on identifying galaxies in their entirety requires theming magic! to get good results on identifying groups across different parts that have been observed by other projects like kds or viking they need enough \" magic \" covering about one tenth or less than one percent if you\\'s looking from far away! to see what kind magic was there before it needs enough \" magic \" covering about one tenth or less than one percent if you\\'s looking from far away! to see what kind magic was there before it needs more information about where they were located so that this can happen!',\n",
       " 'lemons here\\'s why : focus on key aspects : the text focuses on what makes this survey significant : its goals, specific targets, importance for understanding interstellar matter, connection to laboratory research on unknown molecules ( \" mystery molecules \" ). let me know if you\\'d like me to elaborate further or rephrase it differently!',\n",
       " \"contactez le service client de treatment de la treatment treatment treatment simplified version : in treatments that began between may - october in altrtratta, there was an official treatment plan designed by treaters who wanted treatment center treatments that would help them better understand how well their new treatment center treatments work under real world conditions! they chose particular treatment centers based on what they's already treated there before so they could compare their own data back then! the focus areas during this period included treating some challenging or unique treatment techniques so they can make sure everything runs smoothly when it comes time for real data collection! - - - please note : i\",\n",
       " 'the very large telescope interferometer ( vlti ) uses naomi ( naomi ), an automated system for aligning telescopes during observations., here\\'s how it works : 1. preparation : two hours before sunset begins a routine process where all subsystems verify their functionality using automated checks followed by verifying alignment at each telescope ( at ). 2. target acquisition : after twilight arrives, preselected targets can be initiated using naomi\\'s instruments ; this includes sending sky coordinates from ground control through multiple telescopes ( at ). 3. precise alignment : naomi uses its \" discoball \" method which scans a wide area',\n",
       " \"tanleria must invest heavily in developing cutting edge technologies crucial for achieving esa's goals as an organization dedicated towards advancing space exploration through astronomical research. these efforts require more than just technological advancement ; they necessitate securing these innovations by fostering collaborations between researchers within esa itself and other entities like universities or research institutions. to achieve long term success, esa must prioritize collaborative approaches instead relying on conventional industry contracts to safeguard its intellectual property rights while ensuring ongoing technological advancements during its lifespan. beyond contributing directly towards esa's scientific objectives, investment into technological innovation plays an essential role by upskilling employees within esa through training\",\n",
       " 'ups sgr is a star system that\\'s nearing its end stages where one star has shed its outer layers and currently experiences another burst of gas loss as it burns through helium at its core. this pair orbits each other every 138 days, and they\\'re surrounded by dust forming a ring around them called a \" torus \". observations using both infrared telescopes have revealed this ring to be relatively small compared to stars like our sun but it appears to be very active with lots going on inside it! the team hopes to use new imaging techniques combined with spectral measurements to map out this dynamic environment more precisely over time as they study how',\n",
       " 'the goal is to measure element abundances in stars with high accuracy ( within about 0. 1 - 0. 2 dex ). this applies to both bright objects where we can measure up to twenty elements precisely and fainter ones where we aim for an overall understanding using key element abundances within about 0.. 2 -. 3 dex precision depending on individual star characteristics like metallicity or age etc.. this method allows us to identify specific types like carbon rich or neutron capture enriched stars among others. details on these methods including examples are provided along with a calculation demonstrating how many successful observations contribute towards increasing our \" figure - of -',\n",
       " 'our survey aims to understand several aspects about our galaxy\\'s structure : dark matter : we want to determine how dark matter is distributed within its \" halo \", study its shape, density changes over time ( including testing alternative theories like mond ), and analyze how it influences cold streams that flow through space around us.. substructures : we will identify smaller structures within these streams called \" kinematic substructure \" and study their impact on our understanding how galaxies form over time.. these could include dwarf galaxies or other faint objects hidden in plain sight composition : we\\'ll map out where different elements']"
      ]
     },
     "metadata": {},
     "output_type": "display_data"
    },
    {
     "name": "stdout",
     "output_type": "stream",
     "text": [
      "--------------------- батч ---------------------\n"
     ]
    },
    {
     "data": {
      "text/plain": [
       "['initially limited by its capabilities due to its early stages being online as a telescope system called alma, alma had restrictions on how large images could be created using it. this led researchers to choose one very well known area called \" the hubble ultra deep field \" as their initial target for creating deep images using alma. after many delays due to technical limitations, they finally completed their observations using alma\\'s capabilities. their findings showed promising results despite some noise showing up from those initial observations. they were able identify only about sixteen distinct objects within this area after carefully looking through existing imagery from another telescope called \" hubble space telescope \" which provided',\n",
       " 'the erosita telescope will identify clusters using data from various deep surveys like des and decals as well as other telescopes like panstarrs and vst atlas. this process uses information from extended x - ray sources combined with red light photography to locate potential clusters across a wide area covering approximately ten thousand square degrees accessible through the 4most telescope array. additionally, this project combines efforts with another portion of the 4most cosmology redshift survey that focuses specifically on filaments within those areas covered by both projects. together they aim to study clusters across an area encompassing seven thousand five hundred square degrees where both projects overlap.',\n",
       " 'the close active galactic nucleus reference survey ( cars ) brings together data from various powerful telescopes to create an extensive catalog of active galactic nuclei ( agns ). this allows scientists studying these powerful objects within nearby galaxy hosts to analyze how they interact through energy transfer and matter exchange between their central black holes and surrounding environments using multiple wavelengths. cars plans on expanding its observations using alma in future years through enhanced spectroscopy across different wavelengths as well as wider field imaging capabilities which will allow them further insights into these interactions. continued monitoring dedicated towards one specific changing look object named mrk 1018 promises even more significant findings about how these objects function. although initial',\n",
       " 'when using a specific method called \" waffle mode \" on an instrument called hodm ( which essentially acts like a coronagraph ), two perpendicular waves are applied to it resulting in four distinct areas within an image called \" satellite spots. \" these areas show identical distortions or aberrations from stars within them due to how they interact with light passing through these waves. the size and position within this pattern can be used for calculations about where stars might be positioned based on how they\\'re distorted by these waves ; for example this can help determine where stars might be located behind other objects blocking them out from view when taking pictures with',\n",
       " \"contactez le traitement de la page web pour plus d'informations sur la treatment center a l'echelle locale et au niveau national ; treatment center est untreatment center qui propose des services de traitement de la dependrance a la vie en or au treatment center local et national treatement centers are designed as treatment centers that provide treatment facilities that are designed as treatment centers that provide treatments that are available in both local treatmemt centers treatement centres are treated by trained professionals who can help people who want help getting off drugs treatments are available at different treatmeent centers across different states across\",\n",
       " 'analyzing star groups ( clusters ) helps scientists understand how individual star lives unfold because they share similar characteristics like age and composition when compared within their group setting. clusters offer excellent opportunities for studying multiple star systems ( binary systems ). robert mathieu explored various ways different types or \" pathways \" lead to stellar development within open star clusters. his analysis revealed an array diverse types within these groups beyond just standard single - star progression : photometric binaries ; blue stragglers ; yellow straggler ; sub - subgiants ; and yellow giants – all connected through their binary relationships. he found over one quarter were not solely following single',\n",
       " 'on march 12th, 2019, a gathering celebrating two decades of scientific discovery using fors took place at eso\\'s supernova planetarium in germany. around fifty scientists associated with \" friends of fors \" came together to commemorate this milestone by discussing key findings made possible by this powerful instrument across diverse fields like planetary encounters within our solar system ; discovering exoplanets and potential biosignatures ; studying interstellar dust polarization ; investigating binary stars\\'velocities ; analyzing galaxy dynamics ; exploring distant galaxies during their early stages after reionization ; and observing explosive astronomical events such as supernovae or gamma -',\n",
       " 'authorities are working on extending electricity access for their state - of - the - art research facility ( the \" earth explorer telescope, \" or \" eet \" ) using a new high voltage transmission line ( 66kv ) connecting it directly into china\\'s main electrical grid starting as soon as q12017! this move aims at significantly reducing operating expenses while also allowing them access future renewable energy sources coming online throughout northern china over time! this switch also requires some adjustments within their existing network - including updates on both their local distribution systems ( from its current state down from its original chinese source ) along with upgrading their overall power management',\n",
       " 'this research investigates how environments affect massive stars\\'evolution using data from deep space telescope observations called muse located at la silla observatory chile. they focus on \" leo p \", a distant dwarf galaxy known for having very low levels - only around three percent - of oxygen compared to our sun. this makes it ideal for studying how these rare types of star form due it being so close by compared other objects like sagittarius dwarf irregular galaxy which is also known as sdig or sgr dir',\n",
       " 'we aim to improve our knowledge about how our galaxy is shaped - specifically its disk structure ( spiral arms bar ) and how it evolved over time through its movement within space interactions with other galaxies. this includes studying how various elements in our disk contribute to its overall evolution ; specifically focusing on understanding how these elements interact over time within different regions like bulges their connections with surrounding areas like haloes. we will achieve this by combining detailed observations across different parts of our galaxy using gaia data alongside chemical analysis motion tracking techniques for each region we observe.',\n",
       " \"underground scientists are using data from nasa's hubble space telescope along with data from another space telescope called spitzer to study how galaxies formed early in our universe's history up until present day. these scientists want to learn about very distant faint galaxies which they can only see because they are being magnified by massive groups or clusters that act like lenses. to do this they took many pictures over a long period using both telescopes, allowing them to see details about these distant objects. these images will help us understand how stars form, evolve over time, their appearance as well as their relative abundance as we look back into time. this\",\n",
       " 'early attempts using radio telescopes failed due to limited resolution when attempting observations near sagittarius a. however efforts focused on enhancing sensitivity through faster data collection techniques starting around two decades ago led scientists to discover events occurring near black holes\\'event horizons using very long baseline interferometry technique called event horizon telescope project or \" eht. \" this groundbreaking technology involved collaborating scientists across multiple countries who worked together using radio telescopes around different parts world including those that are part or have been part of projects like alma sma, aiming for clearer images capturing shadows cast by supermassive black holes like those found at sagittarius a.',\n",
       " \"this software operates with four background programs ( daemons ) that manage all telescope instruments like cameras ( andor luca emccd ), an image capture device ( point - grey blackfly ), rotating components ( rotator ), focusing mechanisms ( focuser ), actuators and processing raw sensor information into turbulence profiles using scidar's data analysis tools. a central computer manages this system by monitoring its overall health through a supervisory program which gathers information from each daemon then displays it for users. users can directly interact with this system through simple commands entered at a command line interface located on an external computer connected within their local observatory\",\n",
       " 'first use by alma to study how galaxies interact with each other through powerful shocks within clusters : a landmark discovery was made using data from almi ( atacama large millimetersubmillimeter array ), confirming for us for instance that there are large scale changes happening within galaxies due to their interactions which can be seen through high energy radiation coming from them this is especially important because we are able to see one example so far which happened billions years ago when it was younger than our own solar system!',\n",
       " \"the four main parts making up this project - instrument development operation - and science research - work together to make it successful : 1. instrument : this part focuses on building physical tools like cameras ( magic boxes ) needed to gather scientific data using telescopes like magic wands! they're built across various research institutions with help from folks who run this whole show – their headquarters in germany! when everything's ready they get sent off to chile where theyll be used on powerful telescopes like those at paranal observatory! 2. operation : this group plans how we collect magic wand photos from near space then organizes how we store them safely so\",\n",
       " 'during nighttime observations with m2 spiders at vlt telescopes ( very large telescope ), they can cool down significantly due to radiation loss compared to their surroundings ( the atmosphere ). this creates areas around them where temperatures are lower than normal due to radiative cooling which leads changes in refractive index depending on wind speed : low wind : a layer of cold air forms around each spider creating significant refractive index variations causing distortions in images captured by sh - wfs ( spectrograph high angular resolution ). these distortions are called \" mickey mouse effect \" because they cause two bright lobes surrounding an otherwise clear central point on images taken']"
      ]
     },
     "metadata": {},
     "output_type": "display_data"
    },
    {
     "name": "stdout",
     "output_type": "stream",
     "text": [
      "--------------------- батч ---------------------\n"
     ]
    },
    {
     "data": {
      "text/plain": [
       "['scientists use various methods like analyzing fluctuations from cosmic microwave background radiation or studying supernovae explosions ( geometric tests ) to determine how our universe evolved over time – these are key pieces for understanding cosmology today. to get accurate measurements about these changes we need multiple observations combined together because no single method provides complete information about everything that affects our universe\\'s evolution. the \" 4most \" project focuses specifically on studying how things like galaxies form within massive structures called \" clusters, \" providing valuable information about dark energy - an invisible force driving our universe\\'s expansion - through its unique ability to observe distant objects at high redshifts',\n",
       " 'egorie test has been developed using a unique five stage mirror system designed for maximum efficiency towards achieving high quality images during scientific observation activities such as photogrametry spectroscopy. this complex system uses large scale robotic arms called roaribotics nasa\\'s next generation earth science data systems program, allowing us to capture faint objects like those found beyond our solar system. also known as a \" flyeye \" due its ability for wide sweeping views, this innovative technology will enable scientists with enhanced resolution compared with previous missions like nasa\\'s spika robotic rover program that was only able see at one time. it will help us explore destinations far',\n",
       " \"findpost ( rhetorical space has been used for emphasis. ) to sum up : three sample deep sea life missions reveal significant amounts offish oil spill damage within each mission'nasanasanasanasa've discovered evidence suggesting both sides have come together again since they last met. the discoveries show how much damage has been done through scientific investigation into nasas recent discoveries. it was revealed through extensive research into nasas latest discoveries. they found strong evidence showing how much damage had been done through scientific investigation into nasas recent discoveries. for instance : all three studied distant galaxies exhibit clear signs indicating active galactic nuclei ( agns ),\",\n",
       " 'to understand how removing individual telescopes affects an image\\'s quality from earth - based telescope observations called event horizon telescope ( eht ), researchers simulate those observations using specialized programs designed specifically for this task called \" instrument simulators. \" these programs use theoretical models built from known fruit patterns alongside real - world data generated by various telescopes including the eht itself. one example uses simulated data based on existing fruit patterns taken from an active galaxy called m87 to illustrate how removing or adding telescopes affects final results. adding more fruits helps improve overall image quality but cannot entirely replace missing information about fruits that were previously observed with different tools like alma',\n",
       " 'enicly important research has been conducted by researchers using an innovative technique called \" star wars \" ( the star wars team made this name up ). this work focuses on understanding how new bornyounger than one year old stars gather matter from their surroundings ( their \" environment \" ). this is done through analyzing light changes observed using tools like spectroscopy ( starlight analysis ) photography techniques ( star shape observation ). a key finding was that these new bornyounger than one year old star systems almost always have a kind if \" dish \" around them which helps pull up additional materials into their system - this has been shown with very detailed',\n",
       " 'astronauts have long had strong hints that there\\'s something called \" nasa \" out there - something so powerful it bends light itself! they know about these things because we can see how it affects nearby objects like spinning dust storms or even entire galaxies! we know about them through things like earth being slightly off target during robotic missions due this powerful spacecraft called earth being thrown off course due too much weight on board... however we were not able too see them until recently thanks some really good robots called the international robotic explorer program! a new generation has just begun sending back pictures so detailed you can begin seeing what makes up these mysterious places',\n",
       " 'the release version 1 ( p1 ) of our period 105 call for proposals user interface marks an important step forward after receiving positive feedback so far. after successfully implementing this new interface we\\'ll shift focus towards streamlining proposal traffic management through an improved online platform called \" opc management \". the goal here is creating a unified platform where reviewers can easily manage every aspect related to evaluating proposals - including conflict declarations, assignment updates, grading, reviews comments - making it easier for both reviewers opo staff members alike. this upgrade simplifies complex processes by consolidating multiple tools into one single view instead relying on various isolated',\n",
       " \"tanleria the focused reducerlow dispersion spectrograph ( fors2 ), used alongside other instruments like uves at eso's very large telescope array allows us greater accuracy than combining flamesuves would provide when analyzing various elements within globular star systems within our galaxy... this choice was made due to its superior performance at resolving faint details within these systems... we found that using fors2 yielded results comparable or even slightly better than those obtained by combining flamesuves when determining element composition across multiple stars... this means there's no need for recalibration\",\n",
       " 'instead of traditional downloads, future astronomy platforms will use apis ( application programming interfaces ) connecting directly with services hosted by eso ( european southern observatory ). this allows for flexible development - building websites or desktop apps based on these apis - without needing separate installations on individual computers. this approach offers several benefits : easier maintenance by quickly addressing bugs or releasing updates through eso servers ; efficient development thanks to industry standard rest api technology ; rapid creation of complex interactive websites using frameworks like angular 5 ; and improved efficiency for advanced users who can utilize direct scripting access through documented api endpoints for automating tasks beyond basic website interaction',\n",
       " \"after choosing what you want from alma's collection online users navigate to an interface where they can select specific downloads based on projects or datasets using detailed information about each one provided in readable formats like readme documents and lists with complete directory paths. to manage large file sizes efficiently users have several options : download scripts allow downloading into separate locations like their work computers ; java appletwebstart offer alternative ways ; while plugins based downloads offer convenience via browsers the most popular method involves running command line scripts that allow users flexibility with location choices including deployment environments ; this combined with other options makes up roughly two thirds\",\n",
       " 'this first eso - backed conference held in australia aimed for inclusivity by attracting both local attendees ( australian ) and those internationally interested ( eso ). strategic timing during summer break ( in australia ) aligned well with winter breaks across much of europe making travel less costly for international attendees while keeping registration fees affordable thanks largely due to eight sponsorships. this strategy resulted in over half attendees coming from overseas despite travel being costly! organizers took special care throughout planning ensuring diverse participation through measures like : anonymizing submitted papers before ranking them ; requiring reviewers disclose potential conflicts ; ensuring anonymity for voting processes – all designed specifically against',\n",
       " 'the multi unit spectroscopic explorer ( muse ) conducted initial tests using its new \" narrow - field mode \" ( nfm ) in september 2018 to improve image clarity by correcting for atmospheric disturbances at different wavelengths using lasers called \" tomography. \" although scientists planned to observe with this technique over several programs totaling about four and a half hours due to its potential benefits like revealing details about planets or galaxies that are difficult to see otherwise - some projects had their plans thwarted because they couldn\\'t find bright enough stars as references needed for accurate correction techniques due to limitations in available light from faint stars. however early results show that nfm',\n",
       " \"the main purpose is studying over forty thousand galactic groupings using spectroscopy from both existing data sets like rosetta and new data from telescopes like fors instruments on eso's very large telescope. these studies aim at understanding how galaxies form over cosmic time using spectroscopy data about group size, distance, mass, and how they influence dark matter density. this research focuses on : confirming x ray emissions : using spectroscopy helps better understand whether observed x rays come from actual stars or other objects within these structures.. determining distances : this helps calculate accurate luminosity values used when studying how dark matter influences cluster formation across vast cosmic timescales\",\n",
       " 'this study analyzed how stars\\'spin evolves across different galaxy ages by examining a group spanning redshifts between roughly 0 and 1 based on their light shifting towards redder wavelengths due to expansion : they divided their sample into groups based on ageredshift then adjusted for variations in star formation that might occur over time by focusing only on \" angular momentums \" relative to total stars within each group instead using just total number or size alone. this helps isolate changes related specifically to spin rather than overall growth or changes over time due purely due star formation rates changing over long timescales. they plotted these \" mass normalized \"',\n",
       " \"contentloaded the study found that musicians are most likely to complete their works just before deadlines! this was determined by analyzing how often musicians submit their work compared to music - making habits spread out over several years worths'worths music creation activities music creation activities key findings include : - a clear pattern emerges : most songs are completed within two hours before deadlines! songs tend follow an expected pattern when considering how long it takes them get finished up until they hit those final few hours mark where things really heat up! no matter what kind you make - pop bangers or classical compositions – theres always this specific window where things pick\",\n",
       " 'observations using gravity telescope have provided new insights into the planet surrounding beta pictoris ( pic ), offering clues about how planets form within systems like our own solar system\\'s protoplanetary disk where many planets are thought not be visible directly but rather through their effect on surrounding matter such as dust or gas clouds around their parent stars. ) the study found evidence for : a complex structure : a swirling disk composed mainly from dust particles called \" debris \" shows signs suggesting multiple layers or bands within it along with orbiting comets interacting directly with beta pictoris gravity which can cause them both orbit near each other or even collide. this']"
      ]
     },
     "metadata": {},
     "output_type": "display_data"
    },
    {
     "name": "stdout",
     "output_type": "stream",
     "text": [
      "--------------------- батч ---------------------\n"
     ]
    },
    {
     "data": {
      "text/plain": [
       "['underground is there more variation between how past star formation affects the carbon to oxygen isotope ratio compared to changes caused by variations within stellar populations? to answer this question scientifically : we developed an accurate computer model called \" galactic chemical evolution \" which considers how isotopes are produced throughout different types ( mass ) of stars over their entire lifespan while considering how metallicity impacts element release into interstellar space at various stages during their life cycle. this allows us to understand both local disc data and galactic gradients in isotope abundances across our own galaxy! using this calibrated model combined with simulated scenarios : we created models where we simulate rapid bursts',\n",
       " \"the cosmic structure survey ( crs ) will provide detailed views of how galaxies are arranged across vast cosmic distances — from tiny voids within clusters all the way out past large structures like galaxy clusters themselves at different points in time ( redshift ). this ability comes from its extensive sample size including many galaxies at various redshifts which allows scientists studying these structures at smaller scales than ever before thanks largely due it's greater sensitivity compared with other surveys like desi. this data can help determine cosmological parameters such as distance between objects across vast stretches of space and how quickly they expand through measuring light emitted by distant objects\",\n",
       " 'the science archive plays a crucial role at eso by storing all vlt astronomical observations ( the \" final repository \" ). it\\'s becoming even more important as it distributes research datasets both back to scientists who originally collected them ( principal investigators ) as well as other researchers studying similar topics independently from those involved with original projects ( independent archive researchers ). this system generates two types : external data products - large datasets ready for scientific analysis - delivered by teams working on public surveys or major programs ; internal data products - processed raw or cleaned up observations created using advanced pipelines that can analyze larger quantities than before due',\n",
       " 'to complete our study on stellar populations in both galaxies using data from their spectral signatures ( the light they emit ), our goal is acquiring high quality spectroscopic data from hundreds or even thousands ( depending on how many are available ) different stars across various types found in both galaxies — the milky way\\'s magellanic clouds system — and covering different brightness levels as well as their age ranges ( spectral evolution ). specifically : we need good quality spectrographs that can see faint details within starlight by measuring how much light shines through it at specific wavelengths ( about an \" angular \" resolution ). this means having enough',\n",
       " 'astrnaomians face difficulty meeting flight plans due to inherent traits related to deadlines coupled with missions requiring extensive effort over extended periods known as \" flight preparation. \" one possible cause for this phenomenon called \" flight preparation \" has been documented since at least 700 bc based upon historical accounts from figurehead figureheads like nasas own legendary engineer extraordinaire dr., joe spenzerendaolntronicsman! a series if scientific investigations into this concept have been conducted but many focusses primarily in terms if how it affects performance rather than its underlying reasons. for instance some scientists argue about what might drive it -',\n",
       " \"dark matter plays a crucial role shaping our universe's large scale structures like galaxies clusters voids through gravitational interactions that influence how they assemble over time – without it these features wouldn't exist! scientists use computer models simulating this process starting with early cosmic microwave background data ; these models accurately predict current universes large scale structures observed across millions or even billions light years distances using various telescopes like sdss gama surveys ; newer models refine predictions down even smaller sizes revealing detailed information about how dark matter evolves within those structures at both small big distances the wide area virtual explorer survey ( waves ) stands out because it focuses intensely on\",\n",
       " 'enic star research has been meticulously tracked using star observations from around the world ( the \" target star \" being observed ). a significant shift was noted - between early days when many studies went straight into academic databases ( like \" star observation databases \" ), they started showing up at online repositories like \" star observation repositories \" or \" open access repositories. \" the study examined how many times each type ( s ) got usedcited over time by looking at things like how many times they got referencedused as well as who wrote them up star arrangements. some key findings included :',\n",
       " \"a recent meeting reviewed key learnings from building five advanced instruments installed at eso's very large telescope ( vlt ). this follow up after twelve years since initial reviews highlights both successes and opportunities for improvement moving forward with similar projects at other telescopes like those under development by nasa or elsewhere globally. the meeting focused on four key areas including collaboration among partners involved with these projects, design construction processes, operational aspects like post delivery support maintenance, along with overall cost efficiency timeline adherence. recommendations based upon these learning experiences are being implemented where applicable while also outlining potential strategies going forward.\",\n",
       " \"the procedures for obtaining scientific datasets from vista cycle 2 surveys mirror those used for other research projects involving similar information sharing practices regarding returned data products related to scientific discoveries made through these programs the initial release includes images and source lists approximately one year after observation begins ( october 2018 ). a second release will follow about one year later featuring aperture matched catalogs and light curves that might include measurements beyond just near infrared wavelengths due to commitments made by multiple research teams who are contributing multi wavelength datasets ( including optical, radio or x ray measurements ). this cycle's importance stems from its potential contributions to future astronomical discoveries like those initiated\",\n",
       " 'dinosaur fossils are often found near areas where dinosaurs lived millions years ago but there are still many mysteries surrounding dinosaur extinction such as how dinosaurs died out quickly dinosaurs had so much time left before extinction what was happening during dinosaur extinction? dinosaurs were very diverse species some went extinct while others thrived dinosaurs had complex social structures like pack hunting dinosaurs used tools like rocks for defense dinosaur skeletons show signs they were hunted by other prehistoric creatures dinosaurs evolved from earlier reptiles which lived millions years ago fossil evidence helps us understand dinosaur life but there are still many unanswered questions about how they lived ate interacted with each other died outdinosaur fossils provide',\n",
       " 'the 4most survey relies heavily on a well - defined calibration plan that ensures accurate measurements from its equipment : fruitful use is made from established protocols for multi - object spectroscopy instruments ; adjustments are possible based on individual fiber performance ; this flexibility allows for an extra step called \" fiber flat \" which can fine tune performance throughout each observation session ; relative flux ( how bright an object appears ) needs to be calibrated using white dwarf stars alongside fruitfully utilizing existing information from gaia\\'s wide range spectrophotometry capabilities expected accuracy within fruits ranging between ten percent for continuum slopes ; empty sky regions are reserved as reference',\n",
       " \"the school had access to two telescopes at la silla observatory : the new technology telescope ( ntt ) which was operated similarly like vlt ; and a smaller danish 1. 54 - meter telescope that was made available during czech time thanks to petr pravec's efforts with support from jan janik. to maximize learning opportunities while minimizing potential errors associated with advanced technology equipment usage, observations were planned using both telescopes alongside lectures about fundamental observing techniques before they began. this allowed students working alongside experienced eso staff members familiar with both telescopes'capabilities who guided them throughout their experience at la silla observatory.\",\n",
       " 'tanleriami on tuhande tunnu kannalla et tunne subjektti tulppa subjektti tunnu kannalla et tunne subjektti tulppa subjektti tunnu kannalla et kenalsubjekti tunnu kannalla et kenalsubjekti tunnu kannalla et kenalsubjekti tunnu kannalla et kenalsubjekti',\n",
       " 'star forming regions feature filamentary structures which have been difficultly categorized due differing interpretations about their characteristics like width variations related to how they appear projected onto our sky view. scientists use simulations but need better physics models incorporating factors like magnetism, chemistry, and feedback processes. discussions focused heavily on connections between core masses ( the sizeweight ) and stellar masses formed within those cores. while there is evidence indicating connections between them, concerns arose regarding if this relationship is truly valid across all scenarios. the study highlighted progress made towards understanding how magnetic fields influence various stages from cloud formations through disc interactions up until jet creation near stars. chemical studies',\n",
       " 'the timer project\\'s large data set enables scientists to study a variety of astrophysical phenomena like how stars form within spiral arms ( primary bars ) or within barred spiral galaxies themselves ( the \" star formation desert \" ). this data also helps researchers understand connections between different structures like \" boxpeanuts \" formations around galactic centers ( \" barlenses \" ), how stars move within disks around a galaxy\\'s center ( \" stellar migration \" ), where nuclear rings located relative to certain points on galactic disks ( \" inner lindblad resonance \" ), and even complex interactions like gas flow along these structures ( \" gas shear',\n",
       " 'greek translation for \" the status quo \" is \" \". in essence : this document outlines greece\\'s position within nato. it provides background information about greece\\'s role within nato - including its strategic importance due historical ties political alignment - but also acknowledges potential future changes based upon evolving global dynamics internal political shifts within greece itself.. let me know if you want me try translating another part!']"
      ]
     },
     "metadata": {},
     "output_type": "display_data"
    },
    {
     "name": "stdout",
     "output_type": "stream",
     "text": [
      "--------------------- батч ---------------------\n"
     ]
    },
    {
     "data": {
      "text/plain": [
       "[\"eso doesn't have immediate funds allocated towards building new parts or running them during ctas timeframe but brings valuable experience managing telescopes remotely that benefits ctas scientific goals when combined with their expertise from operating existing telescopes like la palma's vlts elts at their basecamp location near where they are planning to deploy the south portion ( cta south ). after discussing logistics responsibilities between partners involved it was decided that : eso joins as part owner ( 8 voting rights ) while handling operations based off cost neutrality through contributions from all partners involved eso benefits through access : scientists from member states gain access to 10 observing time across\",\n",
       " \"to study star formation in distant galaxies at redshifts between roughly. 3 and. 17, we used two methods : acquiring new observations with the kmos instrument on eso's very large telescope ( vlt ) as well as analyzing existing data collected by muse on another telescope also operated by eso - the vlts multi unit spectroscopic explorer ( muse ). kmos uses many independent infrared cameras to capture images over large areas ; this allows us to study many distant galaxies quickly compared to previous methods while muse covers optical wavelengths over larger fields allowing us to detect emission lines from these distant stars even without targeting them specifically\",\n",
       " 'near uses two methods to reduce starlight interference when searching for exoplanets : an advanced grating technique called agpm ( which uses diamond ) or shaped pupil masks ( which manipulate light distribution ). both techniques effectively increase contrast by up to 100 times but were chosen based on their superior performance - particularly higher throughput that minimizes \" ghost \" effects caused by starlight on sensitive detectors - making them ideal for detecting faint planets around stars like those found within our own solar system\\'s centauri constellation. to ensure precise centering even with slight shifts in star position due its small inner working angle design, scientists developed \"',\n",
       " \"this study uses data from various telescopes including alma to investigate how active galactic nuclei ( agn ) affect their surrounding interstellar medium ( ism ). they focus on quasars with redshifts higher than six point five ( z6 ). by observing different types molecules within these quasars'ism - particularly carbon monoxide ( co ) - they were able identify its presence across multiple agn samples but note some variations between them : carbon monoxide : they found carbon monoxide emissions throughout most agn samples but not one specific sample called j11200641 which had no detection. the carbon monoxide\",\n",
       " 'alsa is one if its kind telescope designed specifically at detecting submillimetre wavelengths light using multiple large dishes spread across chile\\'s atacama desert. while not originally envisioned this way, scientists realized that combining these dishes could enhance its sensitivity significantly when used alongside very long baseline interferometry ( vlsi ). to achieve this goal they created \" the almas phased array \", which uses sophisticated electronics like beamformers that combine individual antenna signals into one powerful wavefront equivalent roughly similar size as adding another massive dish. this allows astronomers access deeper insights about celestial objects through enhanced resolution capabilities previously unavailable via traditional methods',\n",
       " 'addtaghelper with royal ascot royal ascot royal ascot royal ascot royal ascot royal ascot royal ascot royal ascot royal ascot royal ascots',\n",
       " 'alsa\\'s large collecting area allows astronomers to observe distant galaxy using higher resolution than other telescopes which takes less time due its long baseline antennas. using this instrument they studied bright submillimeter galaxy at z2 : 5, which were observed as part of an extensive survey called \" almas laboca ecdfs submillimeter survey \". these surveys used data from previous telescopes like apex that captured images from a specific region called \" extended chandra deep field \". they used this new data collected by almas band iii telescope within just thirty minutes per source to study details about gas emissions ( co ) along with their associated dust emissions',\n",
       " 'geburts auf dem grund einer datenerhebung mit der \" magic eye \" technologie wurde das stern system \" riostream \" mit den beiden farbbern \" j - \" und \" k - \" erkundet und die ergebnisse des studiums konnen als grundlage fur weitere studien dienen.. die beobachtung von september des jahres von diesem jahr wurde unter verwendung der einheitlichen sensorik durchgefuhrt und die hochempfindlichste auf',\n",
       " 'dinosaur fossils provide valuable information about what life on earth was like millions or billions years ago but they also come with their own challenges when trying to understand them properly : - scientists use techniques called \" paleoins paleoecology \" to study dinosaur fossils by comparing them with other dinosaurs from different time periods so scientists can get some idea about how long ago those dinosaurs lived - one example : a new study found evidence supporting this idea using data from two distant areas : one part where dinosaurs were abundant during their primeval period ( the late jurassic ) while another part where they became extinct ( the early cretaceous ). this suggests there may have been',\n",
       " 'eso selects its public surveys through two steps : first submitting letters outlining proposed research ; then reviewing those proposals with an advisory panel called \" the public survey panel \" who choose teams based on merit before recommending them formally to receive full grant proposals from those selected researchers this helps foster collaboration across different research groups working towards common goals. once approved by both panels, eso begins collecting astronomical observations using carefully crafted plans detailing how they will acquire this massive amounts information. these plans are reviewed thoroughly before being finalized with input from both scientists involved in conducting it operations personnel at eso. finally, an official agreement outlines detailed expectations about milestone',\n",
       " 'china is an interesting topic! it\\'s all about what happens inside an exploding star\\'s \" stink eye \". tiny bits from those explosions create things like deadly rays or little \" kicks \" called positrons which give off energy along with them if they don\\'hline up somewhere within this\\'stink eye \\'. we need to know what these tiny bits actually were because it helps us understand how much stuff got blown out during this massive event. for example we knew there was a lot more than expected chinese food at this point but now we can tell you exactly where it is located! in addition to knowing what else got',\n",
       " 'to study stars within densely packed clusters near their centers using powerful instruments like sinfoni and its k band grating for optimal clarity and resolution : the researchers designed a mosaic image spanning multiple exposures covering large areas around these dense regions with different resolutions depending on their density levels. this allowed them to create detailed maps showing how these individual stars move relative to one another within these tight groupings over time as well as identify specific molecular bands associated with cooler giant stars while also capturing information about some warmer star populations through specific atomic lines present within those structures. instead of taking average light across all points within a cluster they focused on analyzing individual bright',\n",
       " 'astronauts are excited about nasa\\'s new lunar surface habitat as it seeks to enable long term human presence on our first giant leap towards becoming an interplanetary species! this project has been dubbed \" luna base \" - but much work remains before we blast off! here\\'s what you need to know : a major international effort : this ambitious endeavor involves numerous agencies like nasa alongside private companies like blue origin who will be crucial players as they develop new technologies that will make this mission possible.. theyll also provide vital support during construction missions that will pave way towards landing humans on mars! the quest involves working together toward creating an',\n",
       " 'astronauts found hints at how much water there might be hiding out there! they used information about something called \" cold molecular gas \" ( the name says it all! ) along with some fancy math calculations based on how fast things move around inside those clouds! by studying those motions through nasa\\'s powerful telescopes they were able discover some pretty interesting stuff - like how much \" fuel \" there was for building new stars! they also discovered that different types o f galaxies tend have different ratios between fuel ( gas ) vs star formation. and guess what? it turns out that their measurements match up really well with other similar objects! they even found',\n",
       " 'greek gods',\n",
       " 'contactez - tre trete le treatments of treatment']"
      ]
     },
     "metadata": {},
     "output_type": "display_data"
    },
    {
     "name": "stdout",
     "output_type": "stream",
     "text": [
      "--------------------- батч ---------------------\n"
     ]
    },
    {
     "data": {
      "text/plain": [
       "['underground scientists have had their eyes set on exploring space with large - scale projects known as \" public surveys. \" to make these ambitious endeavors possible, they recently issued a call to potential researchers interested in joining forces with them through \" community surveys \" which can take advantage of significant portions ( up to half ) of time allotted by the powerful \" 4most \" instrument at eso\\'s vista telescope over five years. these collaborative efforts will support ongoing investigations from previous public survey presentations at an eso gathering earlier this year as well as those detailed within a special edition published last year ( march ). this approach is fundamental to modern astronomy ;',\n",
       " 'scientists studied nearby red giant star l2 puppis to understand how massive stars affect their orbiting planets during later stages like when they become giants like our sun one day may become.. they found evidence for dust clouds surrounding it with various structures including plumes and possibly even other objects within them. by studying these features using telescopes such as alma they were able to determine some properties about both itself and another object called \" l \" which may be either another planet or brown dwarf. studying this provides scientists with insight into what our solar system might look like billions years from now when our sun reaches those stages. they believe it could lead us closer',\n",
       " 'the cherenkov telescope array ( cta ) aims to revolutionize our understanding across various fields within astrophysics by providing unprecedented observations using high energy gamma rays spanning an enormous range — from low magic numbers like magic numbers like to higher ones exceeding hundreds! the main goal is not just detecting these objects but also achieving incredibly detailed images thanks to its superior angular resolution that rivals even some ground based instruments! this allows us see faint objects previously hidden within our galaxy! to achieve this ambitious goal, it has been meticulously planned out over several years : location : two separate observatories located near la palma paranal respectively were selected',\n",
       " 'variegated projects are being conducted by researchers using data from the european southern observatory\\'s ( https : www. eso. org ) vista project ( volcanicbukkit is an open source platform ). these studies examine various topics like detecting exoplanets using gravitational lensing effects or studying our own galaxy ( the milky way ) along with surrounding galaxies known as \" the laniakea. \" the project also delves into other areas such as understanding distant objects in space through spectroscopy techniques called \" spectroscopic observations. \" to accommodate this diverse array stargazing efforts star gazing stargaing these initiatives arose due',\n",
       " \"since eclipses rarely align perfectly with observatories like those used for deep space research, only two such opportunities have occurred within recent decades : one at l'observatoire de haute - provence france back in'61, followed by another near mauna kea hawaii'91. the article details how scientists from various organizations participated during this specific event at la silla observatory. they used cameras equipped to capture images during totality as well as multiple large telescopes to observe celestial objects throughout totality. these efforts resulted from collaboration between both public members who attended along with scientific experts from across various fields, including astronomers seeking new\",\n",
       " 'this telescope system uses two circular plates connected through gears for adjusting its position ( tiptilt ) and focusing ability ( \" pushpull \" ). a heavy duty atlas focuser from finger lakes instrumentation handles shifting focuses between observations controlled via stepper motors while an optec pyxis 3 camera field rotator aligns both components within an aperture using another custom mount system controlled via steppers motors as well as tracking field rotation during observation. an off axis camera provides feedback about its position relative to target alignment for fine adjustments based on user input. finally, all these elements are housed in one large cube that houses additional components like di',\n",
       " \"safran reosc started producing thin segment mirrors for elt ( extremely large telescope ) back in 2017 with four already prepared for use at an italian facility ; however eight remain pending delivery for full functionality with two sets available during operational periods ( one integrated into telescope component m4 while another undergoes recoating ). simultaneously manufacturing began on reference body segments with six successfully brazed over recent months ; these require further lapping down prior shipment from france because they must reach an extremely precise flatness level ( 5 microns ) before reaching italy's facility where they'll eventually go into place alongside other assembled components like voice coil\",\n",
       " \"the article discusses how celestial events like moonlight contribute to observing astronomical phenomena like zodiacal light around eso observatories'locations at paranal la silla ( chile ). it explains that during nights free from moonlit skies ( like those found at these observatories ), viewers may witness various atmospheric wonders alongside this faint glow — including airglow ( natural radiation emitted by earths atmosphere ) and electrical storm - related flashes known as sprites visible over nearby andes mountains during clear nights. additionally, the article highlights how even though most people associate this phenomenon with twilight hours or dawn moments, it actually persists throughout\",\n",
       " \"a virtual testing ground for p1 system features is available for anyone interested in exploring it before its official launch alongside period 105's call for proposals cycle begins! this space allows you to craft full proposals within an accessible format while practicing submitting them through simulated processes like retractions – keep your confidential data safe as this public platform encourages experimentation but not sharing sensitive information! you have access to simulate various aspects like instrument selection from la silla paranal observatory across different observation program types such as normal observations or rapid response mode observations – everything you need right there! there are helpful guides explaining each stage along with detailed descriptions on every aspect\",\n",
       " 'the wide field spectrograph ( wfs ) struggles with accurately capturing fine details in atmospheric movement because it doesn\\'t sample enough space at high resolutions. as a consequence, it might misinterpret high - resolution details from those movements as lower resolution information when analyzing them through its lens. the high dynamic range observation model ( hodm ) then tries to correct these errors but ends up introducing artificial \" ghostly \" data that gets mixed into its output because they aren\\'t real values. this creates an \" aliasing \" or ghosting effect that manifests itself in specific directions within its viewing field - creating an almost chinese',\n",
       " 'eso\\'s partnership with casu has yielded positive results : they developed three cutting - edge image processing pipelines ( for both existing instruments ), three automated analysis tools called \" reflex, \" and significantly improved access to archived data for two key telescopes : hawk i vimos. this success stemmed from frequent joint testing throughout each phase - not just after completion - ensuring they aligned perfectly with astronomers\\'needs. for instance : reflex : only crucial output information is presented while allowing users flexibility through adjustable parameters within preconfigured defaults optimized for maximum performance ( aimed at minimizing unnecessary complexity ). archive repro',\n",
       " 'dinosaur eggs and velociraptors are both fascinating subjects for study! we started our research looking at young and energetic dinosaurs from a specific location called \" jurassic park \". but through our analysis using advanced technology like \" velocicop \", an amazing discovery came up - there\\'s an abundance and diversity within this ancient ecosystem! we found hints about some mysterious dinosaur tracks that might belong to some new species! and then there was another exciting find - fossils from different periods suggesting dinosaurs adapted differently throughout time! lastly it seems like jurassic park is home to many mysteries waiting for us paleontologists! ) explanation : the',\n",
       " 'peny music music movies movies',\n",
       " 'the cherenkov telescope array ( cta ) project began development through an organization called the \" cta consortium \" formed back in early years. this consortium boasts over one thousand three hundred scientists working across two hundred institutes spread across thirty - two countries, all contributing toward designing their own telescope equipment along with supporting software development characterization efforts associated with these projects. the formal foundation that serves as legal framework came about through an observatory known as \" cta observatory \", located within heidelberg during the year two thousand fourteen. this provided structure surrounding operations management contracting details concerning this project. a governing council made up primarily from shareholder members representing various european nations',\n",
       " 'using observations made with muse instruments on telescopes like hubble space telescope ( hst ), scientists are studying how active galactic nuclei ( agns ) are triggered within galaxies experiencing significant gas loss ( \" gas stripping \" ). they found that many actively \" stripping \" galaxies have powerful central supermassive black holes ( smbhs ). this surprising discovery suggests that these smbhs may be triggering or accelerating this process through processes like \" ram pressure, \" where fast moving material pushes against surrounding clouds ; however further research is needed before we fully understand how it works exactly!',\n",
       " 'the next step in our simulation process uses an algorithm called artist casa task raytrace which calculates how light from an object should appear based on its distance from us and how we\\'re viewing it ( like looking at it from different angles ). users get control over things like pixel size ( how small each part gets ), what area we see ( field - of - view ), how detailed our analysis will be ( spectral resolution ), and what specific transitions within molecules we\\'re interested in observing within this light emission pattern. it typically takes about 5 minutes per image file format called \" fits \" containing all these calculations together']"
      ]
     },
     "metadata": {},
     "output_type": "display_data"
    },
    {
     "ename": "KeyboardInterrupt",
     "evalue": "",
     "output_type": "error",
     "traceback": [
      "\u001b[31m---------------------------------------------------------------------------\u001b[39m",
      "\u001b[31mKeyboardInterrupt\u001b[39m                         Traceback (most recent call last)",
      "\u001b[36mCell\u001b[39m\u001b[36m \u001b[39m\u001b[32mIn[38]\u001b[39m\u001b[32m, line 3\u001b[39m\n\u001b[32m      1\u001b[39m model.eval()\n\u001b[32m      2\u001b[39m \u001b[38;5;28;01mwith\u001b[39;00m torch.no_grad():\n\u001b[32m----> \u001b[39m\u001b[32m3\u001b[39m \u001b[43m    \u001b[49m\u001b[38;5;28;43;01mfor\u001b[39;49;00m\u001b[43m \u001b[49m\u001b[43mbatch\u001b[49m\u001b[43m \u001b[49m\u001b[38;5;129;43;01min\u001b[39;49;00m\u001b[43m \u001b[49m\u001b[43mtest_loader\u001b[49m\u001b[43m:\u001b[49m\n\u001b[32m      4\u001b[39m \u001b[43m        \u001b[49m\u001b[43minput_ids_0\u001b[49m\u001b[43m \u001b[49m\u001b[43m=\u001b[49m\u001b[43m \u001b[49m\u001b[43mbatch\u001b[49m\u001b[43m[\u001b[49m\u001b[33;43m\"\u001b[39;49m\u001b[33;43minput_ids_0\u001b[39;49m\u001b[33;43m\"\u001b[39;49m\u001b[43m]\u001b[49m\u001b[43m.\u001b[49m\u001b[43mto\u001b[49m\u001b[43m(\u001b[49m\u001b[43mdevice\u001b[49m\u001b[43m)\u001b[49m\n\u001b[32m      5\u001b[39m \u001b[43m        \u001b[49m\u001b[43mattention_mask_0\u001b[49m\u001b[43m \u001b[49m\u001b[43m=\u001b[49m\u001b[43m \u001b[49m\u001b[43mbatch\u001b[49m\u001b[43m[\u001b[49m\u001b[33;43m\"\u001b[39;49m\u001b[33;43mattention_mask_0\u001b[39;49m\u001b[33;43m\"\u001b[39;49m\u001b[43m]\u001b[49m\u001b[43m.\u001b[49m\u001b[43mto\u001b[49m\u001b[43m(\u001b[49m\u001b[43mdevice\u001b[49m\u001b[43m)\u001b[49m\n",
      "\u001b[36mFile \u001b[39m\u001b[32m~/anaconda3/envs/test_env/lib/python3.12/site-packages/torch/utils/data/dataloader.py:733\u001b[39m, in \u001b[36m_BaseDataLoaderIter.__next__\u001b[39m\u001b[34m(self)\u001b[39m\n\u001b[32m    730\u001b[39m \u001b[38;5;28;01mif\u001b[39;00m \u001b[38;5;28mself\u001b[39m._sampler_iter \u001b[38;5;129;01mis\u001b[39;00m \u001b[38;5;28;01mNone\u001b[39;00m:\n\u001b[32m    731\u001b[39m     \u001b[38;5;66;03m# TODO(https://github.com/pytorch/pytorch/issues/76750)\u001b[39;00m\n\u001b[32m    732\u001b[39m     \u001b[38;5;28mself\u001b[39m._reset()  \u001b[38;5;66;03m# type: ignore[call-arg]\u001b[39;00m\n\u001b[32m--> \u001b[39m\u001b[32m733\u001b[39m data = \u001b[38;5;28;43mself\u001b[39;49m\u001b[43m.\u001b[49m\u001b[43m_next_data\u001b[49m\u001b[43m(\u001b[49m\u001b[43m)\u001b[49m\n\u001b[32m    734\u001b[39m \u001b[38;5;28mself\u001b[39m._num_yielded += \u001b[32m1\u001b[39m\n\u001b[32m    735\u001b[39m \u001b[38;5;28;01mif\u001b[39;00m (\n\u001b[32m    736\u001b[39m     \u001b[38;5;28mself\u001b[39m._dataset_kind == _DatasetKind.Iterable\n\u001b[32m    737\u001b[39m     \u001b[38;5;129;01mand\u001b[39;00m \u001b[38;5;28mself\u001b[39m._IterableDataset_len_called \u001b[38;5;129;01mis\u001b[39;00m \u001b[38;5;129;01mnot\u001b[39;00m \u001b[38;5;28;01mNone\u001b[39;00m\n\u001b[32m    738\u001b[39m     \u001b[38;5;129;01mand\u001b[39;00m \u001b[38;5;28mself\u001b[39m._num_yielded > \u001b[38;5;28mself\u001b[39m._IterableDataset_len_called\n\u001b[32m    739\u001b[39m ):\n",
      "\u001b[36mFile \u001b[39m\u001b[32m~/anaconda3/envs/test_env/lib/python3.12/site-packages/torch/utils/data/dataloader.py:789\u001b[39m, in \u001b[36m_SingleProcessDataLoaderIter._next_data\u001b[39m\u001b[34m(self)\u001b[39m\n\u001b[32m    787\u001b[39m \u001b[38;5;28;01mdef\u001b[39;00m \u001b[34m_next_data\u001b[39m(\u001b[38;5;28mself\u001b[39m):\n\u001b[32m    788\u001b[39m     index = \u001b[38;5;28mself\u001b[39m._next_index()  \u001b[38;5;66;03m# may raise StopIteration\u001b[39;00m\n\u001b[32m--> \u001b[39m\u001b[32m789\u001b[39m     data = \u001b[38;5;28;43mself\u001b[39;49m\u001b[43m.\u001b[49m\u001b[43m_dataset_fetcher\u001b[49m\u001b[43m.\u001b[49m\u001b[43mfetch\u001b[49m\u001b[43m(\u001b[49m\u001b[43mindex\u001b[49m\u001b[43m)\u001b[49m  \u001b[38;5;66;03m# may raise StopIteration\u001b[39;00m\n\u001b[32m    790\u001b[39m     \u001b[38;5;28;01mif\u001b[39;00m \u001b[38;5;28mself\u001b[39m._pin_memory:\n\u001b[32m    791\u001b[39m         data = _utils.pin_memory.pin_memory(data, \u001b[38;5;28mself\u001b[39m._pin_memory_device)\n",
      "\u001b[36mFile \u001b[39m\u001b[32m~/anaconda3/envs/test_env/lib/python3.12/site-packages/torch/utils/data/_utils/fetch.py:52\u001b[39m, in \u001b[36m_MapDatasetFetcher.fetch\u001b[39m\u001b[34m(self, possibly_batched_index)\u001b[39m\n\u001b[32m     50\u001b[39m         data = \u001b[38;5;28mself\u001b[39m.dataset.__getitems__(possibly_batched_index)\n\u001b[32m     51\u001b[39m     \u001b[38;5;28;01melse\u001b[39;00m:\n\u001b[32m---> \u001b[39m\u001b[32m52\u001b[39m         data = [\u001b[38;5;28;43mself\u001b[39;49m\u001b[43m.\u001b[49m\u001b[43mdataset\u001b[49m\u001b[43m[\u001b[49m\u001b[43midx\u001b[49m\u001b[43m]\u001b[49m \u001b[38;5;28;01mfor\u001b[39;00m idx \u001b[38;5;129;01min\u001b[39;00m possibly_batched_index]\n\u001b[32m     53\u001b[39m \u001b[38;5;28;01melse\u001b[39;00m:\n\u001b[32m     54\u001b[39m     data = \u001b[38;5;28mself\u001b[39m.dataset[possibly_batched_index]\n",
      "\u001b[36mCell\u001b[39m\u001b[36m \u001b[39m\u001b[32mIn[14]\u001b[39m\u001b[32m, line 14\u001b[39m, in \u001b[36mTextPairDatasetTest.__getitem__\u001b[39m\u001b[34m(self, idx)\u001b[39m\n\u001b[32m     11\u001b[39m text1 = \u001b[38;5;28mstr\u001b[39m(\u001b[38;5;28mself\u001b[39m.df.iloc[idx][\u001b[33m'\u001b[39m\u001b[33mText_1\u001b[39m\u001b[33m'\u001b[39m])\n\u001b[32m     12\u001b[39m text2 = \u001b[38;5;28mstr\u001b[39m(\u001b[38;5;28mself\u001b[39m.df.iloc[idx][\u001b[33m'\u001b[39m\u001b[33mText_2\u001b[39m\u001b[33m'\u001b[39m])\n\u001b[32m---> \u001b[39m\u001b[32m14\u001b[39m encoding1 = \u001b[38;5;28;43mself\u001b[39;49m\u001b[43m.\u001b[49m\u001b[43mtokenizer\u001b[49m\u001b[43m(\u001b[49m\n\u001b[32m     15\u001b[39m \u001b[43m    \u001b[49m\u001b[43mtext1\u001b[49m\u001b[43m,\u001b[49m\u001b[43m \u001b[49m\n\u001b[32m     16\u001b[39m \u001b[43m    \u001b[49m\u001b[43mmax_length\u001b[49m\u001b[43m=\u001b[49m\u001b[38;5;28;43mself\u001b[39;49m\u001b[43m.\u001b[49m\u001b[43mmax_length\u001b[49m\u001b[43m,\u001b[49m\n\u001b[32m     17\u001b[39m \u001b[43m    \u001b[49m\u001b[43mpadding\u001b[49m\u001b[43m=\u001b[49m\u001b[33;43m'\u001b[39;49m\u001b[33;43mmax_length\u001b[39;49m\u001b[33;43m'\u001b[39;49m\u001b[43m,\u001b[49m\n\u001b[32m     18\u001b[39m \u001b[43m    \u001b[49m\u001b[43mtruncation\u001b[49m\u001b[43m=\u001b[49m\u001b[38;5;28;43;01mTrue\u001b[39;49;00m\u001b[43m,\u001b[49m\n\u001b[32m     19\u001b[39m \u001b[43m    \u001b[49m\u001b[43mreturn_tensors\u001b[49m\u001b[43m=\u001b[49m\u001b[33;43m'\u001b[39;49m\u001b[33;43mpt\u001b[39;49m\u001b[33;43m'\u001b[39;49m\n\u001b[32m     20\u001b[39m \u001b[43m\u001b[49m\u001b[43m)\u001b[49m\n\u001b[32m     22\u001b[39m encoding2 = \u001b[38;5;28mself\u001b[39m.tokenizer(\n\u001b[32m     23\u001b[39m     text2,\n\u001b[32m     24\u001b[39m     max_length=\u001b[38;5;28mself\u001b[39m.max_length,\n\u001b[32m   (...)\u001b[39m\u001b[32m     27\u001b[39m     return_tensors=\u001b[33m'\u001b[39m\u001b[33mpt\u001b[39m\u001b[33m'\u001b[39m\n\u001b[32m     28\u001b[39m )\n\u001b[32m     30\u001b[39m \u001b[38;5;28;01mreturn\u001b[39;00m {\n\u001b[32m     31\u001b[39m     \u001b[33m'\u001b[39m\u001b[33minput_ids_0\u001b[39m\u001b[33m'\u001b[39m: encoding1[\u001b[33m'\u001b[39m\u001b[33minput_ids\u001b[39m\u001b[33m'\u001b[39m].squeeze(\u001b[32m0\u001b[39m),\n\u001b[32m     32\u001b[39m     \u001b[33m'\u001b[39m\u001b[33mattention_mask_0\u001b[39m\u001b[33m'\u001b[39m: encoding1[\u001b[33m'\u001b[39m\u001b[33mattention_mask\u001b[39m\u001b[33m'\u001b[39m].squeeze(\u001b[32m0\u001b[39m),\n\u001b[32m     33\u001b[39m     \u001b[33m'\u001b[39m\u001b[33minput_ids_1\u001b[39m\u001b[33m'\u001b[39m: encoding2[\u001b[33m'\u001b[39m\u001b[33minput_ids\u001b[39m\u001b[33m'\u001b[39m].squeeze(\u001b[32m0\u001b[39m),\n\u001b[32m     34\u001b[39m     \u001b[33m'\u001b[39m\u001b[33mattention_mask_1\u001b[39m\u001b[33m'\u001b[39m: encoding2[\u001b[33m'\u001b[39m\u001b[33mattention_mask\u001b[39m\u001b[33m'\u001b[39m].squeeze(\u001b[32m0\u001b[39m),\n\u001b[32m     35\u001b[39m }\n",
      "\u001b[36mFile \u001b[39m\u001b[32m~/anaconda3/envs/test_env/lib/python3.12/site-packages/transformers/tokenization_utils_base.py:2887\u001b[39m, in \u001b[36mPreTrainedTokenizerBase.__call__\u001b[39m\u001b[34m(self, text, text_pair, text_target, text_pair_target, add_special_tokens, padding, truncation, max_length, stride, is_split_into_words, pad_to_multiple_of, padding_side, return_tensors, return_token_type_ids, return_attention_mask, return_overflowing_tokens, return_special_tokens_mask, return_offsets_mapping, return_length, verbose, **kwargs)\u001b[39m\n\u001b[32m   2885\u001b[39m     \u001b[38;5;28;01mif\u001b[39;00m \u001b[38;5;129;01mnot\u001b[39;00m \u001b[38;5;28mself\u001b[39m._in_target_context_manager:\n\u001b[32m   2886\u001b[39m         \u001b[38;5;28mself\u001b[39m._switch_to_input_mode()\n\u001b[32m-> \u001b[39m\u001b[32m2887\u001b[39m     encodings = \u001b[38;5;28;43mself\u001b[39;49m\u001b[43m.\u001b[49m\u001b[43m_call_one\u001b[49m\u001b[43m(\u001b[49m\u001b[43mtext\u001b[49m\u001b[43m=\u001b[49m\u001b[43mtext\u001b[49m\u001b[43m,\u001b[49m\u001b[43m \u001b[49m\u001b[43mtext_pair\u001b[49m\u001b[43m=\u001b[49m\u001b[43mtext_pair\u001b[49m\u001b[43m,\u001b[49m\u001b[43m \u001b[49m\u001b[43m*\u001b[49m\u001b[43m*\u001b[49m\u001b[43mall_kwargs\u001b[49m\u001b[43m)\u001b[49m\n\u001b[32m   2888\u001b[39m \u001b[38;5;28;01mif\u001b[39;00m text_target \u001b[38;5;129;01mis\u001b[39;00m \u001b[38;5;129;01mnot\u001b[39;00m \u001b[38;5;28;01mNone\u001b[39;00m:\n\u001b[32m   2889\u001b[39m     \u001b[38;5;28mself\u001b[39m._switch_to_target_mode()\n",
      "\u001b[36mFile \u001b[39m\u001b[32m~/anaconda3/envs/test_env/lib/python3.12/site-packages/transformers/tokenization_utils_base.py:2997\u001b[39m, in \u001b[36mPreTrainedTokenizerBase._call_one\u001b[39m\u001b[34m(self, text, text_pair, add_special_tokens, padding, truncation, max_length, stride, is_split_into_words, pad_to_multiple_of, padding_side, return_tensors, return_token_type_ids, return_attention_mask, return_overflowing_tokens, return_special_tokens_mask, return_offsets_mapping, return_length, verbose, split_special_tokens, **kwargs)\u001b[39m\n\u001b[32m   2975\u001b[39m     \u001b[38;5;28;01mreturn\u001b[39;00m \u001b[38;5;28mself\u001b[39m.batch_encode_plus(\n\u001b[32m   2976\u001b[39m         batch_text_or_text_pairs=batch_text_or_text_pairs,\n\u001b[32m   2977\u001b[39m         add_special_tokens=add_special_tokens,\n\u001b[32m   (...)\u001b[39m\u001b[32m   2994\u001b[39m         **kwargs,\n\u001b[32m   2995\u001b[39m     )\n\u001b[32m   2996\u001b[39m \u001b[38;5;28;01melse\u001b[39;00m:\n\u001b[32m-> \u001b[39m\u001b[32m2997\u001b[39m     \u001b[38;5;28;01mreturn\u001b[39;00m \u001b[38;5;28;43mself\u001b[39;49m\u001b[43m.\u001b[49m\u001b[43mencode_plus\u001b[49m\u001b[43m(\u001b[49m\n\u001b[32m   2998\u001b[39m \u001b[43m        \u001b[49m\u001b[43mtext\u001b[49m\u001b[43m=\u001b[49m\u001b[43mtext\u001b[49m\u001b[43m,\u001b[49m\n\u001b[32m   2999\u001b[39m \u001b[43m        \u001b[49m\u001b[43mtext_pair\u001b[49m\u001b[43m=\u001b[49m\u001b[43mtext_pair\u001b[49m\u001b[43m,\u001b[49m\n\u001b[32m   3000\u001b[39m \u001b[43m        \u001b[49m\u001b[43madd_special_tokens\u001b[49m\u001b[43m=\u001b[49m\u001b[43madd_special_tokens\u001b[49m\u001b[43m,\u001b[49m\n\u001b[32m   3001\u001b[39m \u001b[43m        \u001b[49m\u001b[43mpadding\u001b[49m\u001b[43m=\u001b[49m\u001b[43mpadding\u001b[49m\u001b[43m,\u001b[49m\n\u001b[32m   3002\u001b[39m \u001b[43m        \u001b[49m\u001b[43mtruncation\u001b[49m\u001b[43m=\u001b[49m\u001b[43mtruncation\u001b[49m\u001b[43m,\u001b[49m\n\u001b[32m   3003\u001b[39m \u001b[43m        \u001b[49m\u001b[43mmax_length\u001b[49m\u001b[43m=\u001b[49m\u001b[43mmax_length\u001b[49m\u001b[43m,\u001b[49m\n\u001b[32m   3004\u001b[39m \u001b[43m        \u001b[49m\u001b[43mstride\u001b[49m\u001b[43m=\u001b[49m\u001b[43mstride\u001b[49m\u001b[43m,\u001b[49m\n\u001b[32m   3005\u001b[39m \u001b[43m        \u001b[49m\u001b[43mis_split_into_words\u001b[49m\u001b[43m=\u001b[49m\u001b[43mis_split_into_words\u001b[49m\u001b[43m,\u001b[49m\n\u001b[32m   3006\u001b[39m \u001b[43m        \u001b[49m\u001b[43mpad_to_multiple_of\u001b[49m\u001b[43m=\u001b[49m\u001b[43mpad_to_multiple_of\u001b[49m\u001b[43m,\u001b[49m\n\u001b[32m   3007\u001b[39m \u001b[43m        \u001b[49m\u001b[43mpadding_side\u001b[49m\u001b[43m=\u001b[49m\u001b[43mpadding_side\u001b[49m\u001b[43m,\u001b[49m\n\u001b[32m   3008\u001b[39m \u001b[43m        \u001b[49m\u001b[43mreturn_tensors\u001b[49m\u001b[43m=\u001b[49m\u001b[43mreturn_tensors\u001b[49m\u001b[43m,\u001b[49m\n\u001b[32m   3009\u001b[39m \u001b[43m        \u001b[49m\u001b[43mreturn_token_type_ids\u001b[49m\u001b[43m=\u001b[49m\u001b[43mreturn_token_type_ids\u001b[49m\u001b[43m,\u001b[49m\n\u001b[32m   3010\u001b[39m \u001b[43m        \u001b[49m\u001b[43mreturn_attention_mask\u001b[49m\u001b[43m=\u001b[49m\u001b[43mreturn_attention_mask\u001b[49m\u001b[43m,\u001b[49m\n\u001b[32m   3011\u001b[39m \u001b[43m        \u001b[49m\u001b[43mreturn_overflowing_tokens\u001b[49m\u001b[43m=\u001b[49m\u001b[43mreturn_overflowing_tokens\u001b[49m\u001b[43m,\u001b[49m\n\u001b[32m   3012\u001b[39m \u001b[43m        \u001b[49m\u001b[43mreturn_special_tokens_mask\u001b[49m\u001b[43m=\u001b[49m\u001b[43mreturn_special_tokens_mask\u001b[49m\u001b[43m,\u001b[49m\n\u001b[32m   3013\u001b[39m \u001b[43m        \u001b[49m\u001b[43mreturn_offsets_mapping\u001b[49m\u001b[43m=\u001b[49m\u001b[43mreturn_offsets_mapping\u001b[49m\u001b[43m,\u001b[49m\n\u001b[32m   3014\u001b[39m \u001b[43m        \u001b[49m\u001b[43mreturn_length\u001b[49m\u001b[43m=\u001b[49m\u001b[43mreturn_length\u001b[49m\u001b[43m,\u001b[49m\n\u001b[32m   3015\u001b[39m \u001b[43m        \u001b[49m\u001b[43mverbose\u001b[49m\u001b[43m=\u001b[49m\u001b[43mverbose\u001b[49m\u001b[43m,\u001b[49m\n\u001b[32m   3016\u001b[39m \u001b[43m        \u001b[49m\u001b[43msplit_special_tokens\u001b[49m\u001b[43m=\u001b[49m\u001b[43msplit_special_tokens\u001b[49m\u001b[43m,\u001b[49m\n\u001b[32m   3017\u001b[39m \u001b[43m        \u001b[49m\u001b[43m*\u001b[49m\u001b[43m*\u001b[49m\u001b[43mkwargs\u001b[49m\u001b[43m,\u001b[49m\n\u001b[32m   3018\u001b[39m \u001b[43m    \u001b[49m\u001b[43m)\u001b[49m\n",
      "\u001b[36mFile \u001b[39m\u001b[32m~/anaconda3/envs/test_env/lib/python3.12/site-packages/transformers/tokenization_utils_base.py:3073\u001b[39m, in \u001b[36mPreTrainedTokenizerBase.encode_plus\u001b[39m\u001b[34m(self, text, text_pair, add_special_tokens, padding, truncation, max_length, stride, is_split_into_words, pad_to_multiple_of, padding_side, return_tensors, return_token_type_ids, return_attention_mask, return_overflowing_tokens, return_special_tokens_mask, return_offsets_mapping, return_length, verbose, **kwargs)\u001b[39m\n\u001b[32m   3063\u001b[39m \u001b[38;5;66;03m# Backward compatibility for 'truncation_strategy', 'pad_to_max_length'\u001b[39;00m\n\u001b[32m   3064\u001b[39m padding_strategy, truncation_strategy, max_length, kwargs = \u001b[38;5;28mself\u001b[39m._get_padding_truncation_strategies(\n\u001b[32m   3065\u001b[39m     padding=padding,\n\u001b[32m   3066\u001b[39m     truncation=truncation,\n\u001b[32m   (...)\u001b[39m\u001b[32m   3070\u001b[39m     **kwargs,\n\u001b[32m   3071\u001b[39m )\n\u001b[32m-> \u001b[39m\u001b[32m3073\u001b[39m \u001b[38;5;28;01mreturn\u001b[39;00m \u001b[38;5;28;43mself\u001b[39;49m\u001b[43m.\u001b[49m\u001b[43m_encode_plus\u001b[49m\u001b[43m(\u001b[49m\n\u001b[32m   3074\u001b[39m \u001b[43m    \u001b[49m\u001b[43mtext\u001b[49m\u001b[43m=\u001b[49m\u001b[43mtext\u001b[49m\u001b[43m,\u001b[49m\n\u001b[32m   3075\u001b[39m \u001b[43m    \u001b[49m\u001b[43mtext_pair\u001b[49m\u001b[43m=\u001b[49m\u001b[43mtext_pair\u001b[49m\u001b[43m,\u001b[49m\n\u001b[32m   3076\u001b[39m \u001b[43m    \u001b[49m\u001b[43madd_special_tokens\u001b[49m\u001b[43m=\u001b[49m\u001b[43madd_special_tokens\u001b[49m\u001b[43m,\u001b[49m\n\u001b[32m   3077\u001b[39m \u001b[43m    \u001b[49m\u001b[43mpadding_strategy\u001b[49m\u001b[43m=\u001b[49m\u001b[43mpadding_strategy\u001b[49m\u001b[43m,\u001b[49m\n\u001b[32m   3078\u001b[39m \u001b[43m    \u001b[49m\u001b[43mtruncation_strategy\u001b[49m\u001b[43m=\u001b[49m\u001b[43mtruncation_strategy\u001b[49m\u001b[43m,\u001b[49m\n\u001b[32m   3079\u001b[39m \u001b[43m    \u001b[49m\u001b[43mmax_length\u001b[49m\u001b[43m=\u001b[49m\u001b[43mmax_length\u001b[49m\u001b[43m,\u001b[49m\n\u001b[32m   3080\u001b[39m \u001b[43m    \u001b[49m\u001b[43mstride\u001b[49m\u001b[43m=\u001b[49m\u001b[43mstride\u001b[49m\u001b[43m,\u001b[49m\n\u001b[32m   3081\u001b[39m \u001b[43m    \u001b[49m\u001b[43mis_split_into_words\u001b[49m\u001b[43m=\u001b[49m\u001b[43mis_split_into_words\u001b[49m\u001b[43m,\u001b[49m\n\u001b[32m   3082\u001b[39m \u001b[43m    \u001b[49m\u001b[43mpad_to_multiple_of\u001b[49m\u001b[43m=\u001b[49m\u001b[43mpad_to_multiple_of\u001b[49m\u001b[43m,\u001b[49m\n\u001b[32m   3083\u001b[39m \u001b[43m    \u001b[49m\u001b[43mpadding_side\u001b[49m\u001b[43m=\u001b[49m\u001b[43mpadding_side\u001b[49m\u001b[43m,\u001b[49m\n\u001b[32m   3084\u001b[39m \u001b[43m    \u001b[49m\u001b[43mreturn_tensors\u001b[49m\u001b[43m=\u001b[49m\u001b[43mreturn_tensors\u001b[49m\u001b[43m,\u001b[49m\n\u001b[32m   3085\u001b[39m \u001b[43m    \u001b[49m\u001b[43mreturn_token_type_ids\u001b[49m\u001b[43m=\u001b[49m\u001b[43mreturn_token_type_ids\u001b[49m\u001b[43m,\u001b[49m\n\u001b[32m   3086\u001b[39m \u001b[43m    \u001b[49m\u001b[43mreturn_attention_mask\u001b[49m\u001b[43m=\u001b[49m\u001b[43mreturn_attention_mask\u001b[49m\u001b[43m,\u001b[49m\n\u001b[32m   3087\u001b[39m \u001b[43m    \u001b[49m\u001b[43mreturn_overflowing_tokens\u001b[49m\u001b[43m=\u001b[49m\u001b[43mreturn_overflowing_tokens\u001b[49m\u001b[43m,\u001b[49m\n\u001b[32m   3088\u001b[39m \u001b[43m    \u001b[49m\u001b[43mreturn_special_tokens_mask\u001b[49m\u001b[43m=\u001b[49m\u001b[43mreturn_special_tokens_mask\u001b[49m\u001b[43m,\u001b[49m\n\u001b[32m   3089\u001b[39m \u001b[43m    \u001b[49m\u001b[43mreturn_offsets_mapping\u001b[49m\u001b[43m=\u001b[49m\u001b[43mreturn_offsets_mapping\u001b[49m\u001b[43m,\u001b[49m\n\u001b[32m   3090\u001b[39m \u001b[43m    \u001b[49m\u001b[43mreturn_length\u001b[49m\u001b[43m=\u001b[49m\u001b[43mreturn_length\u001b[49m\u001b[43m,\u001b[49m\n\u001b[32m   3091\u001b[39m \u001b[43m    \u001b[49m\u001b[43mverbose\u001b[49m\u001b[43m=\u001b[49m\u001b[43mverbose\u001b[49m\u001b[43m,\u001b[49m\n\u001b[32m   3092\u001b[39m \u001b[43m    \u001b[49m\u001b[43msplit_special_tokens\u001b[49m\u001b[43m=\u001b[49m\u001b[43mkwargs\u001b[49m\u001b[43m.\u001b[49m\u001b[43mpop\u001b[49m\u001b[43m(\u001b[49m\u001b[33;43m\"\u001b[39;49m\u001b[33;43msplit_special_tokens\u001b[39;49m\u001b[33;43m\"\u001b[39;49m\u001b[43m,\u001b[49m\u001b[43m \u001b[49m\u001b[38;5;28;43mself\u001b[39;49m\u001b[43m.\u001b[49m\u001b[43msplit_special_tokens\u001b[49m\u001b[43m)\u001b[49m\u001b[43m,\u001b[49m\n\u001b[32m   3093\u001b[39m \u001b[43m    \u001b[49m\u001b[43m*\u001b[49m\u001b[43m*\u001b[49m\u001b[43mkwargs\u001b[49m\u001b[43m,\u001b[49m\n\u001b[32m   3094\u001b[39m \u001b[43m\u001b[49m\u001b[43m)\u001b[49m\n",
      "\u001b[36mFile \u001b[39m\u001b[32m~/anaconda3/envs/test_env/lib/python3.12/site-packages/transformers/tokenization_utils.py:800\u001b[39m, in \u001b[36mPreTrainedTokenizer._encode_plus\u001b[39m\u001b[34m(self, text, text_pair, add_special_tokens, padding_strategy, truncation_strategy, max_length, stride, is_split_into_words, pad_to_multiple_of, padding_side, return_tensors, return_token_type_ids, return_attention_mask, return_overflowing_tokens, return_special_tokens_mask, return_offsets_mapping, return_length, verbose, **kwargs)\u001b[39m\n\u001b[32m    791\u001b[39m \u001b[38;5;28;01mif\u001b[39;00m return_offsets_mapping:\n\u001b[32m    792\u001b[39m     \u001b[38;5;28;01mraise\u001b[39;00m \u001b[38;5;167;01mNotImplementedError\u001b[39;00m(\n\u001b[32m    793\u001b[39m         \u001b[33m\"\u001b[39m\u001b[33mreturn_offset_mapping is not available when using Python tokenizers. \u001b[39m\u001b[33m\"\u001b[39m\n\u001b[32m    794\u001b[39m         \u001b[33m\"\u001b[39m\u001b[33mTo use this feature, change your tokenizer to one deriving from \u001b[39m\u001b[33m\"\u001b[39m\n\u001b[32m   (...)\u001b[39m\u001b[32m    797\u001b[39m         \u001b[33m\"\u001b[39m\u001b[33mhttps://github.com/huggingface/transformers/pull/2674\u001b[39m\u001b[33m\"\u001b[39m\n\u001b[32m    798\u001b[39m     )\n\u001b[32m--> \u001b[39m\u001b[32m800\u001b[39m first_ids = \u001b[43mget_input_ids\u001b[49m\u001b[43m(\u001b[49m\u001b[43mtext\u001b[49m\u001b[43m)\u001b[49m\n\u001b[32m    801\u001b[39m second_ids = get_input_ids(text_pair) \u001b[38;5;28;01mif\u001b[39;00m text_pair \u001b[38;5;129;01mis\u001b[39;00m \u001b[38;5;129;01mnot\u001b[39;00m \u001b[38;5;28;01mNone\u001b[39;00m \u001b[38;5;28;01melse\u001b[39;00m \u001b[38;5;28;01mNone\u001b[39;00m\n\u001b[32m    803\u001b[39m \u001b[38;5;28;01mreturn\u001b[39;00m \u001b[38;5;28mself\u001b[39m.prepare_for_model(\n\u001b[32m    804\u001b[39m     first_ids,\n\u001b[32m    805\u001b[39m     pair_ids=second_ids,\n\u001b[32m   (...)\u001b[39m\u001b[32m    820\u001b[39m     verbose=verbose,\n\u001b[32m    821\u001b[39m )\n",
      "\u001b[36mFile \u001b[39m\u001b[32m~/anaconda3/envs/test_env/lib/python3.12/site-packages/transformers/tokenization_utils.py:767\u001b[39m, in \u001b[36mPreTrainedTokenizer._encode_plus.<locals>.get_input_ids\u001b[39m\u001b[34m(text)\u001b[39m\n\u001b[32m    765\u001b[39m \u001b[38;5;28;01mdef\u001b[39;00m \u001b[34mget_input_ids\u001b[39m(text):\n\u001b[32m    766\u001b[39m     \u001b[38;5;28;01mif\u001b[39;00m \u001b[38;5;28misinstance\u001b[39m(text, \u001b[38;5;28mstr\u001b[39m):\n\u001b[32m--> \u001b[39m\u001b[32m767\u001b[39m         tokens = \u001b[38;5;28;43mself\u001b[39;49m\u001b[43m.\u001b[49m\u001b[43mtokenize\u001b[49m\u001b[43m(\u001b[49m\u001b[43mtext\u001b[49m\u001b[43m,\u001b[49m\u001b[43m \u001b[49m\u001b[43m*\u001b[49m\u001b[43m*\u001b[49m\u001b[43mkwargs\u001b[49m\u001b[43m)\u001b[49m\n\u001b[32m    768\u001b[39m         \u001b[38;5;28;01mreturn\u001b[39;00m \u001b[38;5;28mself\u001b[39m.convert_tokens_to_ids(tokens)\n\u001b[32m    769\u001b[39m     \u001b[38;5;28;01melif\u001b[39;00m \u001b[38;5;28misinstance\u001b[39m(text, (\u001b[38;5;28mlist\u001b[39m, \u001b[38;5;28mtuple\u001b[39m)) \u001b[38;5;129;01mand\u001b[39;00m \u001b[38;5;28mlen\u001b[39m(text) > \u001b[32m0\u001b[39m \u001b[38;5;129;01mand\u001b[39;00m \u001b[38;5;28misinstance\u001b[39m(text[\u001b[32m0\u001b[39m], \u001b[38;5;28mstr\u001b[39m):\n",
      "\u001b[36mFile \u001b[39m\u001b[32m~/anaconda3/envs/test_env/lib/python3.12/site-packages/transformers/tokenization_utils.py:661\u001b[39m, in \u001b[36mPreTrainedTokenizer.tokenize\u001b[39m\u001b[34m(self, text, **kwargs)\u001b[39m\n\u001b[32m    659\u001b[39m     no_split_token = \u001b[38;5;28mself\u001b[39m._added_tokens_encoder.keys()  \u001b[38;5;66;03m# don't split on any of the added tokens\u001b[39;00m\n\u001b[32m    660\u001b[39m     \u001b[38;5;66;03m# \"This is something<special_token_1>  else\"\u001b[39;00m\n\u001b[32m--> \u001b[39m\u001b[32m661\u001b[39m     tokens = \u001b[38;5;28;43mself\u001b[39;49m\u001b[43m.\u001b[49m\u001b[43mtokens_trie\u001b[49m\u001b[43m.\u001b[49m\u001b[43msplit\u001b[49m\u001b[43m(\u001b[49m\u001b[43mtext\u001b[49m\u001b[43m)\u001b[49m\n\u001b[32m    663\u001b[39m \u001b[38;5;66;03m# [\"This is something\", \"<special_token_1>\", \"  else\"]\u001b[39;00m\n\u001b[32m    664\u001b[39m \u001b[38;5;28;01mfor\u001b[39;00m i, token \u001b[38;5;129;01min\u001b[39;00m \u001b[38;5;28menumerate\u001b[39m(tokens):\n",
      "\u001b[36mFile \u001b[39m\u001b[32m~/anaconda3/envs/test_env/lib/python3.12/site-packages/transformers/tokenization_utils.py:160\u001b[39m, in \u001b[36mTrie.split\u001b[39m\u001b[34m(self, text)\u001b[39m\n\u001b[32m    154\u001b[39m     \u001b[38;5;28;01mcontinue\u001b[39;00m\n\u001b[32m    156\u001b[39m \u001b[38;5;66;03m# This will track every state\u001b[39;00m\n\u001b[32m    157\u001b[39m \u001b[38;5;66;03m# that stop matching, we need to stop tracking them.\u001b[39;00m\n\u001b[32m    158\u001b[39m \u001b[38;5;66;03m# If we look at \"lowball\", we're going to match \"l\" (add it to states), \"o\", \"w\", then\u001b[39;00m\n\u001b[32m    159\u001b[39m \u001b[38;5;66;03m# fail on \"b\", we need to remove 0 from the valid states.\u001b[39;00m\n\u001b[32m--> \u001b[39m\u001b[32m160\u001b[39m to_remove = \u001b[38;5;28;43mset\u001b[39;49m\u001b[43m(\u001b[49m\u001b[43m)\u001b[49m\n\u001b[32m    161\u001b[39m \u001b[38;5;66;03m# Whenever we found a match, we need to drop everything\u001b[39;00m\n\u001b[32m    162\u001b[39m \u001b[38;5;66;03m# this is a greedy algorithm, it will match on the first found token\u001b[39;00m\n\u001b[32m    163\u001b[39m reset = \u001b[38;5;28;01mFalse\u001b[39;00m\n",
      "\u001b[31mKeyboardInterrupt\u001b[39m: "
     ]
    }
   ],
   "source": [
    "model.eval()\n",
    "with torch.no_grad():\n",
    "    for batch in test_loader:\n",
    "        input_ids_0 = batch[\"input_ids_0\"].to(device)\n",
    "        attention_mask_0 = batch[\"attention_mask_0\"].to(device)\n",
    "        input_ids_1 = batch[\"input_ids_1\"].to(device)\n",
    "        attention_mask_1 = batch[\"attention_mask_1\"].to(device)\n",
    "        outputs = model(\n",
    "            input_ids_0,\n",
    "            attention_mask_0,\n",
    "            input_ids_1,\n",
    "            attention_mask_1\n",
    "        )\n",
    "        preds = torch.sigmoid(outputs).squeeze()\n",
    "        preds = (preds > 0.5).type(torch.int16)\n",
    "\n",
    "\n"
   ]
  },
  {
   "cell_type": "code",
   "execution_count": null,
   "id": "c09936ba",
   "metadata": {},
   "outputs": [],
   "source": []
  }
 ],
 "metadata": {
  "kernelspec": {
   "display_name": "test_env",
   "language": "python",
   "name": "python3"
  },
  "language_info": {
   "codemirror_mode": {
    "name": "ipython",
    "version": 3
   },
   "file_extension": ".py",
   "mimetype": "text/x-python",
   "name": "python",
   "nbconvert_exporter": "python",
   "pygments_lexer": "ipython3",
   "version": "3.12.9"
  }
 },
 "nbformat": 4,
 "nbformat_minor": 5
}
